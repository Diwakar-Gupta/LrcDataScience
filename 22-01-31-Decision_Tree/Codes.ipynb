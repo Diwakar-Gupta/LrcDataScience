{
  "nbformat": 4,
  "nbformat_minor": 0,
  "metadata": {
    "colab": {
      "name": "Decision Tree.ipynb",
      "provenance": [],
      "collapsed_sections": [],
      "toc_visible": true,
      "include_colab_link": true
    },
    "kernelspec": {
      "name": "python3",
      "display_name": "Python 3"
    },
    "language_info": {
      "name": "python"
    },
    "widgets": {
      "application/vnd.jupyter.widget-state+json": {
        "2abe68b68a224eb3a421c6f03e0bad68": {
          "model_module": "@jupyter-widgets/controls",
          "model_name": "VBoxModel",
          "model_module_version": "1.5.0",
          "state": {
            "_view_name": "VBoxView",
            "_dom_classes": [
              "widget-interact"
            ],
            "_model_name": "VBoxModel",
            "_view_module": "@jupyter-widgets/controls",
            "_model_module_version": "1.5.0",
            "_view_count": null,
            "_view_module_version": "1.5.0",
            "box_style": "",
            "layout": "IPY_MODEL_1ab7500b055a45cb95b48c416a3584ae",
            "_model_module": "@jupyter-widgets/controls",
            "children": [
              "IPY_MODEL_9f45485087434cbb863943745e24b2ff",
              "IPY_MODEL_e8628017b06442238868e70857a976b3"
            ]
          }
        },
        "1ab7500b055a45cb95b48c416a3584ae": {
          "model_module": "@jupyter-widgets/base",
          "model_name": "LayoutModel",
          "model_module_version": "1.2.0",
          "state": {
            "_view_name": "LayoutView",
            "grid_template_rows": null,
            "right": null,
            "justify_content": null,
            "_view_module": "@jupyter-widgets/base",
            "overflow": null,
            "_model_module_version": "1.2.0",
            "_view_count": null,
            "flex_flow": null,
            "width": null,
            "min_width": null,
            "border": null,
            "align_items": null,
            "bottom": null,
            "_model_module": "@jupyter-widgets/base",
            "top": null,
            "grid_column": null,
            "overflow_y": null,
            "overflow_x": null,
            "grid_auto_flow": null,
            "grid_area": null,
            "grid_template_columns": null,
            "flex": null,
            "_model_name": "LayoutModel",
            "justify_items": null,
            "grid_row": null,
            "max_height": null,
            "align_content": null,
            "visibility": null,
            "align_self": null,
            "height": null,
            "min_height": null,
            "padding": null,
            "grid_auto_rows": null,
            "grid_gap": null,
            "max_width": null,
            "order": null,
            "_view_module_version": "1.2.0",
            "grid_template_areas": null,
            "object_position": null,
            "object_fit": null,
            "grid_auto_columns": null,
            "margin": null,
            "display": null,
            "left": null
          }
        },
        "9f45485087434cbb863943745e24b2ff": {
          "model_module": "@jupyter-widgets/controls",
          "model_name": "IntSliderModel",
          "model_module_version": "1.5.0",
          "state": {
            "_view_name": "IntSliderView",
            "style": "IPY_MODEL_a0f0e00cbf4d474ea7ba1bdcaff6973d",
            "_dom_classes": [],
            "description": "max_depth",
            "step": 1,
            "_model_name": "IntSliderModel",
            "orientation": "horizontal",
            "max": 9,
            "_view_module": "@jupyter-widgets/controls",
            "_model_module_version": "1.5.0",
            "value": 3,
            "_view_count": null,
            "disabled": false,
            "_view_module_version": "1.5.0",
            "min": -3,
            "continuous_update": true,
            "readout_format": "d",
            "description_tooltip": null,
            "readout": true,
            "_model_module": "@jupyter-widgets/controls",
            "layout": "IPY_MODEL_09d39510ede54cc8a227b3eed3949746"
          }
        },
        "e8628017b06442238868e70857a976b3": {
          "model_module": "@jupyter-widgets/output",
          "model_name": "OutputModel",
          "model_module_version": "1.0.0",
          "state": {
            "_view_name": "OutputView",
            "msg_id": "",
            "_dom_classes": [],
            "_model_name": "OutputModel",
            "outputs": [
              {
                "output_type": "display_data",
                "data": {
                  "image/png": "iVBORw0KGgoAAAANSUhEUgAAAXkAAAD4CAYAAAAJmJb0AAAABHNCSVQICAgIfAhkiAAAAAlwSFlzAAALEgAACxIB0t1+/AAAADh0RVh0U29mdHdhcmUAbWF0cGxvdGxpYiB2ZXJzaW9uMy4yLjIsIGh0dHA6Ly9tYXRwbG90bGliLm9yZy+WH4yJAAAgAElEQVR4nO3de3SV9Z3v8fc3ISThlgsELwmRiIDcIUSHqmVE7MFqK0i9dXWm0tNKte05M6dTTqE9tT2duqTLOdOOqz3jcE5d1TPOCNqCKF6qRQdtQU24qQjK3QTkFsI1Cbn8zh/P3jGEnWTv7L3z7Gfn81qLlZ3nebKf78Ply2//Lt+fOecQEZH0lOF3ACIikjxK8iIiaUxJXkQkjSnJi4ikMSV5EZE01s/vANobNmyYGzlypN9hiIgESlVV1VHnXFGkcymV5EeOHEllZaXfYYiIBIqZ7evsnLprRETSmJK8iEgaU5IXEUljKdUnLyLpo6mpierqahoaGvwOJW3k5ORQUlJCVlZW1D+jJC8iSVFdXc3gwYMZOXIkZuZ3OIHnnOPYsWNUV1dTVlYW9c/FneTNLAdYB2SH3u8Z59yPzawMeAoYClQBf+2cOxfv/aRnVm2q4eGXd3Cgrp5L83NZNGcs86YV+x2WpLGGhgYl+AQyM4YOHcqRI0di+rlE9Mk3Ajc456YAU4GbzGwG8HPgF865K4DjwNcTcC/pgVWbaljy+3epqavHATV19Sz5/bus2lTjd2iS5pTgE6snv59xJ3nnOR36Niv0ywE3AM+Ejj8OzIv3XtIzD7+8g/qmlvOO1Te18PDLOy64dtWmGq5dupayxWu4dula/UcgEnAJmV1jZplmthk4DLwC7ALqnHPNoUuqgYh9A2a20Mwqzawy1o8hfV20CflAXX1Ux9Xil3T2k5/8hH/4h3/o0c9u3ryZF154ISHv1Zlnn32WyZMnM3XqVCoqKnjzzTcT8r4JSfLOuRbn3FSgBLgauDKGn13mnKtwzlUUFUVclSsRxJKQL83PjfgeHY/H0uIX6Us6JvlkmD17Nlu2bGHz5s089thjfOMb30jI+yZ0nrxzrg54DfgMkG9m4YHdEkDNwQSKJSEvmjOW3KzM847lZmWyaM7Y845F2+IXCYoHH3yQMWPGcN1117Fjx6f/Nnbt2sVNN93E9OnT+exnP8v27dsBWLBgAffddx8VFRWMGTOG559/nnPnzvHAAw+wfPlypk6dyvLlywHYtm0b119/PZdffjmPPPJI3LEOGjSorc/9zJkzCRvPSMTsmiKgyTlXZ2a5wOfwBl1fA27Hm2FzD/BsvPeST8WSkMOzaLqbXXNpfi41EX6+s08CIlGr+ls4vjmx71kwFab/svNbVlXx1FNPsXnzZpqbmykvL2f69OkALFy4kEcffZTRo0fz1ltv8a1vfYu1a9cCsHfvXt5++2127drFrFmz2LlzJz/96U+prKzkV7/6FeB112zfvp3XXnuNU6dOMXbsWO6///4L5q/fdddd5/3nEvbd736Xr371qxccX7lyJUuWLOHw4cOsWbOmx7817SVinvwlwONmlon3yWCFc+55M9sGPGVmPwM2Ab9JwL0kJNaEPG9acbdTJhfNGcuS37973ieESC1+kSB44403uO222xgwYAAAt956KwCnT5/mz3/+M3fccUfbtY2NjW2v77zzTjIyMhg9ejSXX355Wyu/o1tuuYXs7Gyys7MZPnw4hw4doqSk5Lxrwq3+aN12223cdtttrFu3jh/96Ee8+uqrMf18JHEneefcVmBahOO78frnJQmSkZCjbfGHae69RK2LFndva21tJT8/n82bI3+y6NhN0lm3SXZ2dtvrzMxMmpubL7gm1pZ82MyZM9m9ezdHjx5l2LBhnV4XDa14DahYE3Is7xvNe4QHfsP/yYQHftvHJuKnmTNnsmDBApYsWUJzczPPPfcc3/zmNxkyZAhlZWU8/fTT3HHHHTjn2Lp1K1OmTAHg6aef5p577mHPnj3s3r2bsWPHsnPnTk6dOhVzDLG05Hfu3MmoUaMwMzZu3EhjYyNDhw6N+Z4dKckHWLQJORm6GvhVkpdUUF5ezl133cWUKVMYPnw4V111Vdu5J598kvvvv5+f/exnNDU1cffdd7cl+dLSUq6++mpOnjzJo48+Sk5ODrNmzWLp0qVMnTqVJUuWJCXe3/3udzzxxBNkZWWRm5vL8uXLEzL4as65BISXGBUVFU6bhgSjG6Rs8Roi/c0xYM/SW3o7HElBH3zwAePGjfM7jJgsWLCAL3zhC9x+++1+h9KpSL+vZlblnKuIdL1KDaeYoCxIinbuvYj4S0k+xQRlQVK0c+9FguS3v/1tSrfie0J98ikmKAuSkjXwKyKJpSSfYoK0IMnPgV8RiY66a1KMukFEJJHUkk+ETYvg4CsJeat5wKypTRw+1UhTSytZmRkMH5xN3sEsOJiQWwTDuEVQ9hW/oxAJPCX5eLU2wYe/goEjYUhiWtt5gyAvjQpyHqxr4KPDp2hoaiUnK4PRwwdzSX5O5z9w5M+w+zEleelVr7/+Ov379+eaa67p8XsMGjSI06dPd39hL1KSj9eJbdDSABMfgJFf9jualLNqUw1LXulQfmFfJg/Nn9R5f/7b98H+FeAcaGch6SWvv/46gwYNiivJpyL1ycfr2Dve18KI6xD6vB5NCS0sh3PH4cy+JEcnqSRZu5LNmzeP6dOnM2HCBJYtWwbASy+9RHl5OVOmTGH27Nns3buXRx99lF/84hdMnTqVN954gwULFvDMM8+0vc+gQYMAr8DZ7NmzKS8vZ9KkSTz7bGoX2FVLPl61lZCVB4Ov8DuSlNSjKaEFoXp3xzfCoJGJD0pSTjJrIT322GMUFhZSX1/PVVddxdy5c7n33ntZt24dZWVl1NbWUlhYyH333cegQYP43ve+B8BvfhO5cG5OTg4rV65kyJAhHD16lBkzZnDrrbem7H62asnH69g7Xis+Rf+A/dajlbH5k8AyoXZjkqKSVJPMRYCPPPIIU6ZMYcaMGXz88ccsW7aMmTNnUlZWBkBhYWFM7+ec4wc/+AGTJ0/mxhtvpKamhkOHDsUdZ7IoycejpQFOvAtDr+r20r66QXaPpoRm5kDeBCX5PiRZiwBff/11Xn31VdavX8+WLVuYNm0aU6dOjepn+/XrR2trK+CVJz537hzgFTc7cuQIVVVVbN68mYsuuoiGhoa44kwmJfl4HN/qza7ppj8+KPVokmHetGIemj+J4vxcDCjOz+160DWssByOb+qVGMV/yaqFdOLECQoKChgwYADbt29nw4YNNDQ0sG7dOvbs2QNAbW0tAIMHDz6vnPDIkSOpqqoCYPXq1TQ1NbW95/Dhw8nKyuK1115j377UHjtSko9HbahiZjct+aDUo0mWedOK+dPiG9iz9Bb+tPiG6PpYC6ZBwydQ35cWB/RdyVoEeNNNN9Hc3My4ceNYvHgxM2bMoKioiGXLljF//nymTJnCXXfdBcAXv/hFVq5c2Tbweu+99/If//EfTJkyhfXr1zNw4EAAvvKVr1BZWcmkSZN44oknuPLKK+OKMdk08BqP2ncguwgGjOjysqDUo0kpBeXe19qNUKzSxekuWbWQsrOzefHFFyOe+/znP3/e92PGjGHr1q3nHduwYUPb65///OcADBs2jPXr10d8z1SbIw9K8vE5VhnVoGuQ6tGkjIIpgCnJ9yGqhZQc6q7pqeYzcHJbVIOuqkfTA1mDYcgYbxqliPSYWvI9VbsJXGtUi6BUlreHCsrh6J/9jkLi4JxL2fnjQdSTnfyU5HuqbdA1upWu+ijaAwXTYN+/Q+MxyI5/Q2PpXTk5ORw7doyhQ4cq0SeAc45jx46Rk9NF3acIlOR76tg7kFsMuZf4HUn6KgwNvh7fBBff6G8sErOSkhKqq6s5cuSI36GkjZycHEpKSmL6GSX5nqqtjKo/XmLTfhPzsYVNvFSCN/iqJB84WVlZbatKxT9xD7ya2Qgze83MtpnZ+2b2N6HjhWb2ipl9FPpaEH+4KeJcHZz6UEXJEqzjorHttVlUn7uI6t1/8js0kcBKxOyaZuDvnHPjgRnAt81sPLAY+KNzbjTwx9D36SG83F5JPqEiLRp7r/5yWo9pho1IT8Wd5J1zB51zG0OvTwEfAMXAXODx0GWP4216lB5iHHSV6ERaHPZe/ShKs6qh6aQPEYkEX0LnyZvZSGAa8BZwkXMuvCb9E+CiTn5moZlVmlllYAZojr0DA8s04yPBIi0Oe69+lPfi+JZejkYkPSQsyZvZIOB3wN86585rdjlvcmfECZ7OuWXOuQrnXEVRUUD2vNOga1JEWjS2q2mM90IVKUV6JCGza8wsCy/BP+mc+33o8CEzu8Q5d9DMLgEOJ+Jevms4Amf2wuhvAefPBtEip/hEWjT2d3Omwt5LtPJVpIfiTvLmrXL4DfCBc+4f251aDdwDLA19Te09sqJV65UeZehVSd3Npq+KuGjsxDSVHRbpoUR011wL/DVwg5ltDv26GS+5f87MPgJuDH0ffG17upb3+RLCvaag3NswvVlVO0ViFXdL3jn3JtDZmuXZ8b5/yqmthCFjIWuISgj3lsJycC1Q9y4Mu9rvaEQCRVUoY1X7DhR6g67J2s1GOmgrb6B+eZFYKcnH4uwBb6ei0CIolRDuJQNKoX+B+uVFekC1a2LRYbs/lRDuJWZev7ymUYrETEk+FsfeAcuEgk93e1cJ4V5SWA47/snbOD0jy+9oRAJD3TWxqK2EvAnQb4DfkfQ9BeXQes6bZSMiUVOSj5ZzoUFX1avxRWG7jb1FJGpK8tE6s8/boUjlDPwx+AroN0iDryIxUp98tGrDi6DUkveFZXhjIaFplConIRIdteSjdazSG/DLn+R3JH1XQTkc38yqjfvP21wkXE5i1aYavyMUSTlK8tGqfQfyp0Bmtt+R9F2F5dB8huVr16qchEiUlOSj4Vq9wmTqqvFXwTQAhje/H/G0ykmIXEhJPhqndno7E2nQ1V954yAjm7/I3x/xtMpJiFxIST4axzTomhIysiB/Mp+7uEblJESipCQfjdpKyMyFvPF+RyKF5RQ1vc9Dt02kOD8XA4rzc3lo/iTNrhGJQFMoI+g4PW/12D8xtGAaZOi3y3eF5bDzX5g3pol55Tf4HY1IylNLvoPwbk/h6Xmf1J0m98xWdrVc6XdoAm2Dr1r5KhIdJfkOOu72dEXOxwzIaORfPxruY1TSJn+SVyROK19FoqIk30HHaXiTcz8CYN2xy/wIRzrKzPGKxKklLxIVJfkOOk7Dm5S7k1MtuTTmXuFTRHKBwnI4XuUVjRORLinJd9Bxt6fJAz5kW8NovjdnnI9RyXkKpkHDYW+XLhHpkpJ8B/OmFfPQ/EkU5+fS35oYn7uXwhHXaHpeKinQnq8i0dKcwAjadnuqrYKXmhg9bpbfIUl7BVMAg9pNUPwFv6MRSWlqyXfl2Pl7ukqKyBoMQ8aoJS8SBSX5rtS+A/0LYeBIvyORjrSxt0hUEpLkzewxMztsZu+1O1ZoZq+Y2UehrwWJuFevOlbp1asx8zsS6ahgGpzdDw1H/Y5EJKUlqiX/W+CmDscWA390zo0G/hj6Pjiaz8KJ99RVk6rCe75qUZRIlxIy8OqcW2dmIzscngtcH3r9OPA68P1E3C8ue5+CI290f925WnAtqjyZqsLlDY5vgks+1+Wl2ipQ+rJkzq65yDkXnsj8CXBRpIvMbCGwEKC0tDSJ4eC1zt/6uve634Durx88BoZ/NrkxSc9kh8ZKuumXD9ciCpeqCG8VCCjRS5/QK1MonXPOzCIuT3TOLQOWAVRUVCR3CeOBF6DlLMxeCxdpWmTgFUzrdoZNx1pE8OlWgUry0hckM8kfMrNLnHMHzewS4HAS7xWd/SsgZzgUzfQ7EkmEwnKoXgnPd14h9InhZ6Cz2nLPD4x8POdiuP5F6KedpiT4kpnkVwP3AEtDX59N4r2613wGap6Hy78GGZndXy+pb+RX4OSH0Hqu00v2HDx0QUsevJ2kRuVH6EFsOASHX4e6rTDsLxIYrIg/EpLkzezf8QZZh5lZNfBjvOS+wsy+DuwD7kzEvXqsZg201EOpv2FIAg0qg2ue6PKS0wPP75MHL8E/NH8SROquObUTnhsNJ95Xkpe0kKjZNV/u5NTsRLx/Quxf4X0ML7rO70ikF4X73aOeXTOwzCtnXPde5PMiAdM3atc0nYYDa2DUN9RV0we11SKKRkYmDBnnteRF0kDfSPI1z0NLA280zmLx0rWaLy1dy5sIh9b6HYVIQvSN2jX7V1Df7yK++VJO296t4fnSqzbV+B2dpJr8CVBfA+fq/I5EJG7pn+SbTsGBF3ju+DWcbTp/Gn54vrTIefImeF/VZSNpIP2TfM1z0NrIikOfiXi6456uIuRN9L4qyUsaSP8kv38F5BbzSf9pEU933NNVhIGl0G8g1CnJS/Cld5JvOgkHXoTSO/jenHHn7d0K3nzpRXPG+hScpCzLgCHjvSqkIgGX3rNrqld7qyFL72ReUYzzpaVvy5/gNRBEAi69k/z+FTBgRNvKxZjmS0vfljcRdv8WGo9B9lC/oxHpsfTtrjlXBwdfhtI7vI/fIrHQDBtJE+mb/dp11YjELJzkVd5AAi59k/z+FTCgFIZe7XckEkQDSiBriFryEnjpmeTPHYdP/gCX3alNuKVnzLzWvJK8BFx6JvnqZ6G1SV01Ep+8Cd40SpfcDctEkik9Z9fsW+Ht/6lNuCUGHTf8/uerSpjceAwaDkNuxC2KRVJe+rXkG2vhk1e8Vry6aiRK4Q2/2xew++Xb/b2T6rKRAEu/JF+9Elyz1x8vEqVIG36/e6bEe6EkLwGWfkl+3woYNAoKyv2ORAIkUqG6I80FHG8erPIGEmjpleQbjsKhP6qrRmIWuVCdsa95pFryEmjpleSrV4JrUVeNxGzRnLERC9jlXTzVq0apGTYSUOmV5PevgMGjIX+K35FIwMybVsxD8ydRnJ+LAcX5uTw0fxJlo66GpjqoP+B3iCI9kj5TKBuOePtyjl+irhrpkYgF7A6120BkgIrbSfAEviW/alMN1y5dyw8e+Z/gWll79i/9DknSiQqVScAFOsm3n9t8S94b7Goo4dsvNGtzbkmcnCLILlKhMgmspCd5M7vJzHaY2U4zW5zI9w7PbR7W7zgzBr3H8yeuo76pVZtzS2LlT1RLXpIm3BtRtngN1y5dm/BGalKTvJllAr8GPg+MB75sZuMT9f7huc2zBr9DprWypu66846LJETeBDixTTNsJOEirbRe8vt3E5rok92SvxrY6Zzb7Zw7BzwFzE3Um4fnNj99/HPc8tEv+bDxsvOOiyRE3gRoPgVnP/Y7Ekkz4d6IpSWP8Pm8NwGob2pJaG9EspN8MdD+X0Z16FgbM1toZpVmVnnkyJGY3vzTuc3G+/VXAKbNuSXx8kIzbNQvLwl2oK6ey/of4O7CP3Bp1pHzjieK7wOvzrllzrkK51xFUVFRTD/b2dxm7eMqCZWvGTaSHJfm53JLqAX/4olrzzueKMmeJ18DjGj3fUnoWMJoc25Juv4FkHuJkrwk3KI5Yxmz6U2qzlzJgabhAAnvjUh2S/4dYLSZlZlZf+BuYHWS7ymSeHkTVahMEm7eqDOMz9nNm+duSFpvRFJb8s65ZjP7DvAykAk85pxTc0iCJ28C7FwGrhXM915OSRf7nwbgb762hL8ZUJKUWyS9rIFz7gXghWTfRySp8iZAy1k4sxcGXe53NJIu9j8Nw67xNo5PEjVJRKIRLm9Qpw+ikiAnd0DdlqTvRa0kLxKNthk26peXBAl11VB6e1JvoyQvEo2sITBghGbYSOLsXwFF1ya9umn6lBoWSba8CW1JftWmGh5+eQcH6uq5ND+XRXPGaiqvRO/Edqh7F6b/U9JvpZa8SLTyJ8KJD1i1cX/S641Imtv/NGAw4ktJv5WSvEi08iZAayNPrX2N+qaW804lut6IpLn9K6Doul7ZiEZJXiRaoRk2eec+jHha1U8lKic+8AbwkzyrJkxJXiRaeV6V7On5ByOeVvVTiUq4q6Y0+V01oCQvEr1+A2FgGTeXHgtVP/2Uqp9K1PavgOGf9eoh9QIleZFY5E2gxHar+qn0TN373gytXuqqAU2hFIlN/kT45GXmTRmupC6x68VZNWFqyYvEIm8CtDbBqY/8jkSC6OOnYfhMyL24126plrxILPLabSCSl7DtiiXNRFwsV1bn7RVc8etejUUteZFYDLnSKzWsQmXSic42597+9v/1/u6MmN+r8SjJi8SiXy4MGqVCZdKp8Obc7dU3NZNz8Pcw/C97tasGlORFYteuho1IR5EWxY3J3sfIrP1Qekevx6MkLxKrvAnewGtLo9+RSAqKtCjulvw3aXEZUNK7XTWgJC8Su7yJ4FrgVOTyBtK3LZoztsNiOccX89+kduBnIPeiXo9HSV4kVuENROrULy8Xmjet+LzFcjOLDnJ5djVFE/7al3g0hVIkVoPHgGWqX146NW9a8aeL5bb8CLZlwIjbfIlFLXmRWGVme4leSV6641yoVs0syBnuSwhK8iI9kTdB3TXSvbqt3tjNZb1Xq6YjJXmRnsibAKd3QbNqyEsX9q/wuvZK/OmqAfXJi/RM/kTAwcntUDit08u0F2wf5pxXkOyiWZBT5FsYcSV5M7sD+AkwDrjaOVfZ7twS4OtAC/BfnXMvx3MvkZTSvoZNJ0k+vLw9vPoxvLwdUKIPsrr34cye7q+rP+itpxi3KPkxdSHelvx7wHzgX9ofNLPxwN3ABOBS4FUzG+Oca7nwLUQCaPAVkJEFm78PO34Z8ZIrD55i+WWtFxzvvzkDDg3u5I0Nxn8fSm9PYLCSMK1N8IcZ0Hw6uuszc3ztqoE4k7xz7gMAM+t4ai7wlHOuEdhjZjuBq4H18dxPJGVkZMHEB+Dohk4vqWnsZMirGa7sbKbF0fWw6zdK8qnqxPtegp+6FC6a3f31OUWQMyz5cXUhWX3yxUD7v/3VoWMXMLOFwEKA0tLSJIUjkgQT/0eXpx/YsJaaCHVMivNzmX39DZF/aMPXoGaN1597YeNJ/FZb5X0tuQ2GjPE3lih1O7vGzF41s/ci/JqbiACcc8uccxXOuYqiIv8GJ0QS7cLl7VHsBVtYAY1H4Gx1kqOTHqndCP0Ge911AdFtS945d2MP3rcGGNHu+5LQMZE+Izy4GtPsmsLp3tfaShg4ovPrxB+1VVBY7tWFD4hkddesBv7NzP4Rb+B1NPB2ku4lkrLOW94ejfwp3rzq2irflsFLJ1qboW4LjP6W35HEJK7/jszsNjOrBj4DrDGzlwGcc+8DK4BtwEvAtzWzRiQK/XK96Zm1ld1fK73rxDZoafj001ZAxDu7ZiWwspNzDwIPxvP+In1S4XSoeU6Dr6kmPOgasCQfnI4lkb6isAIaj8LZj/2ORNqrraIpYyDX/e+PKVu8hmuXrmXVptQfalSSF0k17QdfJWXUVq9ny+kyqusaz9ugO9UTvZK8SKrJn/zp4KukhtZmBpx5ny1nRp13uL6phYdf3uFTUNFRkhdJNf1yvS0GleRTx8kPyMlo5N36C+fHR9q4O5UoyYukosLpXneNc35HItD2H26kJB9p4+5UoiQvkooKp0PjMTi73+9IBKB2I802gE9az1+g1u0K5hSgJC+SigorvK/HNPiaEmqr6DesnAfnT23boLs4P5eH5k9K+bLR2jREJBUVTAbr53UTlH7J72j6ttYWOL4Zrrg39hXMKUAteZFUlJnj7T6lwVf/ndwOLWcDtwgqTEleJFVp8DU1BHSla5i6a0RSRMf9YH999SimnquFM/tg0Ei/w+u7aqsgcwAMTu0B1s6oJS+SAsL7wdbU1betpnxw/QDvpFa++ut4FRRMhYzM7q9NQUryIing4Zd3tG34Hbb1dCnNTitffdXaArWbAttVA0ryIikh0qrJRtef7Q0jleT9dGpHoAddQUleJCV0tmpyd8tYDb76KeCDrqAkL5ISOtsPtvSKz8K543Bmrz+B9XW1VZCZC0Ou9DuSHlOSF0kB86YV89D8SResppw6JbTFsgZf/VG7MTToGtyJiMGNXCTNRFxN2TIMMrJCK1/v8Cewvsq1wvFNcPkCvyOJi5K8SCrLzIa8SRp8TaKO6xMWzRnr/Wd78kNoPh3o/nhQkhdJfYXT4eNntOdrEoTXJ4Snr4Z3ewKYlx/8QVdQn7xI6iucHhp83eN3JGkn0vqEtt2eaqu8GkJDxvkUXWIoyYukuqEqO5wsne3qdKCu3lvpmj8l0IOuoCQvkvryJn46+CoJ1dn6hOL87MCvdA1TkhdJdZnZ3ubeSvIJ19n6hJ9c3x+aTynJm9nDZrbdzLaa2Uozy293bomZ7TSzHWY2J/5QRfqwwulektfK14TqbH3CjRdXexekQZKPt7PpFWCJc67ZzH4OLAG+b2bjgbuBCcClwKtmNsY519LFe4lIZwqnw85lcHo3DB7ldzRpJeL6hI1VkJENeeP9CSqB4mrJO+f+4JxrDn27ASgJvZ4LPOWca3TO7QF2AlfHcy+RPi2856tWvvaO2o1QMMUbCwm4RA4b/2dgeeh1MV7SD6sOHbuAmS0EFgKUlpYmMByRNJI3ETL6Q20Vq2qvi7x4RxLDtcLxjTDyK35HkhDdJnkzexW4OMKpHzrnng1d80OgGXgy1gCcc8uAZQAVFRXqcBSJJLM/5E/myL4/s6TqhsiLd5ToE+PULmg6mRb98RBFknfO3djVeTNbAHwBmO1c26hQDTCi3WUloWMi0lOF08n58F+pb2oGPl35Gl68oySfIGlQXri9eGfX3AT8d+BW59zZdqdWA3ebWbaZlQGjgbfjuZdIn1c4ncEZZ7is/8ELTnW2qEd64Hh40HWC35EkRLzz5H8FDAZeMbPNZvYogHPufWAFsA14Cfi2ZtaIxCk0+Dopd+cFpzpb1CM9UFvlrUtIg0FXiHPg1Tl3RRfnHgQejOf9RaSdvAm0WH+mDdrF8ydmth3Ozcpk0ZyxPgaWRpzzZtZcdrffkSRMsIsyiPQlmf3JLJjMrbkHeexMrmbXdKPTEsJdOb0Lmk6kTX88KMmLBEthBZEB4esAAAeSSURBVEX7/o0/ff96MFUl6UyXJYS7SvRpNugKql0jEiyF073pfad2+R1JSuuyhHBXaqu89Qh5E5MYXe9SkhcJknDZYRUr61KXJYS7UlsF+ZO8dQlpQkleJEjyJnjT+1TeoEudzTbqchZSeNA1jbpqQEleJFgyslR2OAqdlRDuchbSmT3QVKckLyI+G1oRKjvc6nckKauzEsJ9bdAVNLtGJHgKp8NH/wyndsKQMV1e2qNphGkiYgnhrtRWeZ+U0mjQFdSSFwmewugGX8PTCGvq6nF8Oo1w1SaVkYqotgryJnk7caURJXmRoMkbH9Xga4+nEfZFznlJvrDc70gSTkleJGgysrwNLbppyfd4GmFfdGYvnDuedv3xoD55kWAqrIA9j8OW/9HpJT++bC+nGpovOD44px9sWZ/M6ILn9G7vq5K8iKSES2+G3Y/BtqWdXvLVPGgdcuE+PBlmXn3YAGp10NpuM/MMMzKsix+IxaDLvempaUZJXiSIim+Bu7rudskAVqfR7JqO9WjAm/ve7dTIPk5JXiSNxTyNMIV1NZCcLs+YDBp4FZFA0EByzyjJi0gg9KgejSjJi4jX333t0rWULV7DtUvXpuSCqR7VoxH1yYv0dT3eYKOXhWNJl4Hk3qIkL9LHBWlAM50GknuLkrxIH5cKA5p9uZBasqlPXqSP83tAU4XUkktJXqSP83tAU4XUkkvdNSJ9XKwDmonuWkmF7qJ0FleSN7O/B+YCrcBhYIFz7oCZGfBPwM3A2dDxjfEGKyLJEe2AZiwzcaL9z+DS/FxqIiR0zX9PjHi7ax52zk12zk0FngceCB3/PDA69Gsh8M9x3kdEUkC0XSux9LP73V2U7uJK8s65k+2+HQiEy8PNBZ5wng1AvpldEs+9RMR/0XatxNLP3qP9WCVqcffJm9mDwFeBE8Cs0OFi4ON2l1WHjh2M8PML8Vr7lJaWxhuOiCRRtF0rsfaza/578nTbkjezV83svQi/5gI4537onBsBPAl8J9YAnHPLnHMVzrmKoqKi2J9ARHpNtF0rfk/LlE91m+Sdczc65yZG+PVsh0ufBL4Uel0DjGh3riR0TEQCLNquFfWzp454Z9eMds59FPp2LrA99Ho18B0zewr4C+CEc+6CrhoRCZ5oulZUZyZ1xNsnv9TMxuJNodwH3Bc6/gLe9MmdeFMovxbnfUQkYNTPnhriSvLOuS91ctwB347nvUVEJH4qayAiksaU5EVE0piSvIhIGlOSFxFJY+aNkaYGMzuCN0unJ4YBRxMYThDomfsGPXPfEM8zX+aci7iaNKWSfDzMrNI5V+F3HL1Jz9w36Jn7hmQ9s7prRETSmJK8iEgaS6ckv8zvAHygZ+4b9Mx9Q1KeOW365EVE5ELp1JIXEZEOlORFRNJYoJK8md1kZjvMbKeZLY5wPtvMlofOv2VmI3s/ysSK4pm/a2bbzGyrmf3RzC7zI85E6u6Z2133JTNzZhb4qXbRPLOZ3Rn6s37fzP6tt2NMtCj+bpea2Wtmtin09/tmP+JMJDN7zMwOm9l7nZw3M3sk9Huy1czK476pcy4Qv4BMYBdwOdAf2AKM73DNt4BHQ6/vBpb7HXcvPPMsYEDo9f194ZlD1w0G1gEbgAq/4+6FP+fRwCagIPT9cL/j7oVnXgbcH3o9Htjrd9wJeO6ZQDnwXifnbwZeBAyYAbwV7z2D1JK/GtjpnNvtnDsHPIW3UUl7c4HHQ6+fAWabmfVijInW7TM7515zzp0NfbsBbxeuIIvmzxng74GfAw29GVySRPPM9wK/ds4dB3DOHe7lGBMtmmd2wJDQ6zzgQC/GlxTOuXVAbReXzAWecJ4NQL6ZXRLPPYOU5DvbHDziNc65ZrzNxYf2SnTJEc0zt/d1vFZAkHX7zKGPsCOcc2t6M7AkiubPeQwwxsz+ZGYbzOymXosuOaJ55p8Af2Vm1XgbEf2X3gnNV7H+m+9WvDtDSYows78CKoC/9DuWZDKzDOAfgQU+h9Lb+uF12VyP92ltnZlNcs7V+RpVcn0Z+K1z7n+Z2WeA/2dmE51zrX4HFiRBaslHszl42zVm1g/vI96xXokuOaLaEN3MbgR+CNzqnGvspdiSpbtnHgxMBF43s714/ZarAz74Gs2fczWw2jnX5JzbA3yIl/SDKppn/jqwAsA5tx7IwSvilc6i+jcfiyAl+XeA0WZWZmb98QZWV3e4ZjVwT+j17cBaFxrNCKhun9nMpgH/gpfgg95PC908s3PuhHNumHNupHNuJN44xK3OuUp/wk2IaP5ur8JrxWNmw/C6b3b3ZpAJFs0z7wdmA5jZOLwkf6RXo+x9q4GvhmbZzABOOOcOxvOGgemucc41m9l3gJfxRuYfc869b2Y/BSqdc6uB3+B9pNuJN7hxt38Rxy/KZ34YGAQ8HRpj3u+cu9W3oOMU5TOnlSif+WXgP5nZNqAFWOScC+yn1Cif+e+A/2Nm/w1vEHZBwBttmNm/4/1nPSw01vBjIAvAOfco3tjDzcBO4CzwtbjvGfDfMxER6UKQumtERCRGSvIiImlMSV5EJI0pyYuIpDEleRGRNKYkLyKSxpTkRUTS2P8Ha1w6P/WoOhsAAAAASUVORK5CYII=\n",
                  "text/plain": "<Figure size 432x288 with 1 Axes>"
                },
                "metadata": {
                  "needs_background": "light"
                }
              }
            ],
            "_view_module": "@jupyter-widgets/output",
            "_model_module_version": "1.0.0",
            "_view_count": null,
            "_view_module_version": "1.0.0",
            "layout": "IPY_MODEL_9f17fc1dbd0f44e19ca050bf85cf1aaa",
            "_model_module": "@jupyter-widgets/output"
          }
        },
        "a0f0e00cbf4d474ea7ba1bdcaff6973d": {
          "model_module": "@jupyter-widgets/controls",
          "model_name": "SliderStyleModel",
          "model_module_version": "1.5.0",
          "state": {
            "_view_name": "StyleView",
            "handle_color": null,
            "_model_name": "SliderStyleModel",
            "description_width": "",
            "_view_module": "@jupyter-widgets/base",
            "_model_module_version": "1.5.0",
            "_view_count": null,
            "_view_module_version": "1.2.0",
            "_model_module": "@jupyter-widgets/controls"
          }
        },
        "09d39510ede54cc8a227b3eed3949746": {
          "model_module": "@jupyter-widgets/base",
          "model_name": "LayoutModel",
          "model_module_version": "1.2.0",
          "state": {
            "_view_name": "LayoutView",
            "grid_template_rows": null,
            "right": null,
            "justify_content": null,
            "_view_module": "@jupyter-widgets/base",
            "overflow": null,
            "_model_module_version": "1.2.0",
            "_view_count": null,
            "flex_flow": null,
            "width": null,
            "min_width": null,
            "border": null,
            "align_items": null,
            "bottom": null,
            "_model_module": "@jupyter-widgets/base",
            "top": null,
            "grid_column": null,
            "overflow_y": null,
            "overflow_x": null,
            "grid_auto_flow": null,
            "grid_area": null,
            "grid_template_columns": null,
            "flex": null,
            "_model_name": "LayoutModel",
            "justify_items": null,
            "grid_row": null,
            "max_height": null,
            "align_content": null,
            "visibility": null,
            "align_self": null,
            "height": null,
            "min_height": null,
            "padding": null,
            "grid_auto_rows": null,
            "grid_gap": null,
            "max_width": null,
            "order": null,
            "_view_module_version": "1.2.0",
            "grid_template_areas": null,
            "object_position": null,
            "object_fit": null,
            "grid_auto_columns": null,
            "margin": null,
            "display": null,
            "left": null
          }
        },
        "9f17fc1dbd0f44e19ca050bf85cf1aaa": {
          "model_module": "@jupyter-widgets/base",
          "model_name": "LayoutModel",
          "model_module_version": "1.2.0",
          "state": {
            "_view_name": "LayoutView",
            "grid_template_rows": null,
            "right": null,
            "justify_content": null,
            "_view_module": "@jupyter-widgets/base",
            "overflow": null,
            "_model_module_version": "1.2.0",
            "_view_count": null,
            "flex_flow": null,
            "width": null,
            "min_width": null,
            "border": null,
            "align_items": null,
            "bottom": null,
            "_model_module": "@jupyter-widgets/base",
            "top": null,
            "grid_column": null,
            "overflow_y": null,
            "overflow_x": null,
            "grid_auto_flow": null,
            "grid_area": null,
            "grid_template_columns": null,
            "flex": null,
            "_model_name": "LayoutModel",
            "justify_items": null,
            "grid_row": null,
            "max_height": null,
            "align_content": null,
            "visibility": null,
            "align_self": null,
            "height": null,
            "min_height": null,
            "padding": null,
            "grid_auto_rows": null,
            "grid_gap": null,
            "max_width": null,
            "order": null,
            "_view_module_version": "1.2.0",
            "grid_template_areas": null,
            "object_position": null,
            "object_fit": null,
            "grid_auto_columns": null,
            "margin": null,
            "display": null,
            "left": null
          }
        },
        "668477cd2ca14383b58fe369e3e9962e": {
          "model_module": "@jupyter-widgets/controls",
          "model_name": "VBoxModel",
          "model_module_version": "1.5.0",
          "state": {
            "_view_name": "VBoxView",
            "_dom_classes": [
              "widget-interact"
            ],
            "_model_name": "VBoxModel",
            "_view_module": "@jupyter-widgets/controls",
            "_model_module_version": "1.5.0",
            "_view_count": null,
            "_view_module_version": "1.5.0",
            "box_style": "",
            "layout": "IPY_MODEL_379902006f37408eb9beca85103c7e0d",
            "_model_module": "@jupyter-widgets/controls",
            "children": [
              "IPY_MODEL_c4e14e51d4e44367a68ca3613e0bf5ee",
              "IPY_MODEL_f0aef025b029482fabf6f3cb03a1e855"
            ]
          }
        },
        "379902006f37408eb9beca85103c7e0d": {
          "model_module": "@jupyter-widgets/base",
          "model_name": "LayoutModel",
          "model_module_version": "1.2.0",
          "state": {
            "_view_name": "LayoutView",
            "grid_template_rows": null,
            "right": null,
            "justify_content": null,
            "_view_module": "@jupyter-widgets/base",
            "overflow": null,
            "_model_module_version": "1.2.0",
            "_view_count": null,
            "flex_flow": null,
            "width": null,
            "min_width": null,
            "border": null,
            "align_items": null,
            "bottom": null,
            "_model_module": "@jupyter-widgets/base",
            "top": null,
            "grid_column": null,
            "overflow_y": null,
            "overflow_x": null,
            "grid_auto_flow": null,
            "grid_area": null,
            "grid_template_columns": null,
            "flex": null,
            "_model_name": "LayoutModel",
            "justify_items": null,
            "grid_row": null,
            "max_height": null,
            "align_content": null,
            "visibility": null,
            "align_self": null,
            "height": null,
            "min_height": null,
            "padding": null,
            "grid_auto_rows": null,
            "grid_gap": null,
            "max_width": null,
            "order": null,
            "_view_module_version": "1.2.0",
            "grid_template_areas": null,
            "object_position": null,
            "object_fit": null,
            "grid_auto_columns": null,
            "margin": null,
            "display": null,
            "left": null
          }
        },
        "c4e14e51d4e44367a68ca3613e0bf5ee": {
          "model_module": "@jupyter-widgets/controls",
          "model_name": "IntSliderModel",
          "model_module_version": "1.5.0",
          "state": {
            "_view_name": "IntSliderView",
            "style": "IPY_MODEL_99d1828f05d8459bb8aed46c0e78a50c",
            "_dom_classes": [],
            "description": "max_depth",
            "step": 1,
            "_model_name": "IntSliderModel",
            "orientation": "horizontal",
            "max": 9,
            "_view_module": "@jupyter-widgets/controls",
            "_model_module_version": "1.5.0",
            "value": 3,
            "_view_count": null,
            "disabled": false,
            "_view_module_version": "1.5.0",
            "min": -3,
            "continuous_update": true,
            "readout_format": "d",
            "description_tooltip": null,
            "readout": true,
            "_model_module": "@jupyter-widgets/controls",
            "layout": "IPY_MODEL_ac0f4bc773624a9a96bdab83d0c9ad8a"
          }
        },
        "f0aef025b029482fabf6f3cb03a1e855": {
          "model_module": "@jupyter-widgets/output",
          "model_name": "OutputModel",
          "model_module_version": "1.0.0",
          "state": {
            "_view_name": "OutputView",
            "msg_id": "",
            "_dom_classes": [],
            "_model_name": "OutputModel",
            "outputs": [
              {
                "output_type": "display_data",
                "data": {
                  "image/png": "iVBORw0KGgoAAAANSUhEUgAAAXkAAAD4CAYAAAAJmJb0AAAABHNCSVQICAgIfAhkiAAAAAlwSFlzAAALEgAACxIB0t1+/AAAADh0RVh0U29mdHdhcmUAbWF0cGxvdGxpYiB2ZXJzaW9uMy4yLjIsIGh0dHA6Ly9tYXRwbG90bGliLm9yZy+WH4yJAAAgAElEQVR4nO3de3RV9Znw8e+T6zlJgHAJEsIlUBFFEdBobZ1xtNqirRW0F513Oq3Tjqxa+7ZOp7bQrul0OfWVjjPOjNO+49CFb+3Ujpe2IK2ttIiItmobBFtFGBEQggIBCRBIck6S3/vHPjsckpOc295n357PWllJ9rn9DuQ853ee/fyenxhjUEopFU5lXg9AKaWUezTIK6VUiGmQV0qpENMgr5RSIaZBXimlQqzC6wGkmzBhgmlubvZ6GEopFSibNm06ZIxpyHSZr4J8c3Mzra2tXg9DKaUCRUTeHO4yTdcopVSIaZBXSqkQ0yCvlFIhpkFeKaVCTIO8UkqFWNHVNSISAzYC1an7+7Ex5u9FZAbwMDAe2AT8pTEmUezjqcKs3ryPe9Zu562OLibXx7lj4WwWL2jyelhKKZc5MZPvAd5njJkHzAeuFpFLgG8D/2KMORM4AnzGgcdSBVi9eR/LfvpH9nV0YYB9HV0s++kfWb15n9dDU0q5rOggbyydqV8rU18GeB/w49TxB4HFxT6WKsw9a7fTlew77VhXso971m4fct3Vm/dx6fL1zFj6BJcuX69vBEoFnCOLoUSkHCslcybwXeANoMMY05u6ShuQMTcgIkuAJQDTpk1zYjiRkWsK5q2Oroy3H3zcnvHbbwj2jB/Q1I5SAeXIiVdjTJ8xZj4wBbgYODuP264wxrQYY1oaGjKuylUZ5JOCmVwfz3gfg4/nM+NXSgWDo9U1xpgO4GngPUC9iNifFKYA+rnfQfkE5DsWziZeWX7asXhlOXcsnH3asVxn/Eqp4Cg6yItIg4jUp36OA+8HXsMK9h9NXe1TwOPFPpY6JZ+AvHhBE3ffMJem+jgCNNXHufuGuUNSMLnO+JVSwSHF7vEqIudjnVgtx3rTeNQYc6eIzMQqoRwHbAY+YYzpGem+WlpajDYoS3nuJnjr58NefDLRR6b/OhGoqSofekEOevsMPX391mnzgTuE6vIyKspl+BvO/Sac8+WCHlMpVTwR2WSMacl0WdEnXo0xfwAWZDi+Eys/rwpx8BmoOxMmXZXx4n0HO3n29XZ6+09F5Ioy4U9nNTBrYl1BD1kB7DrYye93v8OJnl5qqyu4qHncsPf3+sFOxhz8Cds3/oilj1+gtfdK+ZCvWg2rNMkOmPEJWHBPxotnAa+eMbS6ZlaRQXZW6iub1Zv3sew3f+QfG7cyN75DK3GU8ikN8n7U1219VdaPeLXFC5o8C6j2id89iUlcPea3lNNHV9I6rkFeKf/Q3jU+9MuXtgHwjV+2+XZBkn2Cd09iEpXSR2PlodOOK6X8QYO8z6zevI/7nrROPh/tq/VtCwK74mZPzyQAplbtP+24UsofNMj7zD1rt1PVfwyA4321gD8XJNm193sTVpCfVr0/Y+29UspbmpP3mbc6uphZdwKAY6kgbx/3Ezvvfu/acpKmnHNHHeI97x9ae6+U8pYGeZ+ZXB9ntBka5P2YBhk48bummU9O7wcN8Er5jqZrfOaOhbMZX2XN2o/1W/Xpvk+D1M2Ezp1ej0IplYHO5H1m8YImzjw8Cg5CZ18NTUHY4KNuJuz9cfbrKaVKToO8D53XYKC9jFfu+qjVp8Dv6mZCz2FIHIWqMV6PRimVRtM1fpQ4ai2ECkKAByvIA5zY5e04lFJDaJD3o2QHVI282tVX7CCveXmlfEeDvB8lOqAyQGkPDfJK+ZYGeT8K2ky+qh6qxmqQV8qHNMj7kZ2TDxIto1TKl7S6xo+SHcGrUqmbCUe2eD0KpQbkutF92OlM3o8SHcGcyZ/YDf19Wa+qlNvy2eg+7DTI+01/L/R2BisnD1aQ709CV/ReRMp/7P0O7pv2j1wz5jnAn43+SkGDvN8krQ6UgZzJg+bllS+81dGF0M+1Y57lilGtpx2PGg3yfpPssL4HMScPGuSVL0yuj1NX1kWZGM6ofOe041GjQd5vEqkgH7SZfM1UkHIN8soX7lg4m4nV1qx9YoUV5H3f6M8lWl3jN3aQD1pOvqwSaqZpkFe+sHhBE6O7J8MuaKg8EoxGfy7RIO83yaPW96AFedBa+RLR0sDcvG9mFeyCCRVH+c0dfwLlVV4PyRMa5P1mIF0TsJw8WEG+bXVRd6EBbGR2aWBX0ipVtUsDAf13Gsw+vwXQfQBqp3o3Fg8VnZMXkaki8rSIbBWRV0Xki6nj40Tk1yLyeur72OKHGwHJgKZrINVyuB2Sxwu6udY2Z2eXBqaLamlgVom0IN/1tnfj8JgTJ157gb81xswBLgFuE5E5wFLgKWPMLOCp1O8qm0QqXVMx2ttxFGKgwqawlsMawLIbrgQwiqWBWZ0W5N/ybhweKzrIG2PeNsa8lPr5OPAa0AQsAh5MXe1BYHGxjxUJyQ6oHA1l5V6PJH9FllFqAMtuuBLAKJYGZnVaukZn8o4QkWZgAfAicIYxxv6X3Q+cMcxtlohIq4i0tre3OzmcYApam+F0RQZ5DWDZ3bFwNvHK0ycAUS0NzCrRAeU1IGVwUmfyRROROuAnwO3GmGPplxljDGAy3c4Ys8IY02KMaWloaHBqOMEVtDbD6arGWm9QBQZ5DWDZLV7QxN03zKWpPo4ATfVx7r5hrp50zSTZAdXjoXpipGfyjlTXiEglVoB/yBjz09ThAyLSaIx5W0QagYNOPJbfOF4NEsQ2wzaRosoo7X83ra4Z2eIFTfpvkotEasIklZE+8Vp0kBcRAVYCrxlj7k27aA3wKWB56vvjxT6W37hSzpbssFaPBlXdTDj6SsE31wCmHGN3c60cHenGeU6kay4F/hJ4n4hsSX19ECu4v19EXgeuSv0eKq5UgwQ5Jw+pmfwuMP1ej0RFnZ36jDfqTL4YxpjnABnm4iuLvX8/c6UaJBHgnDykWg4nrJK1milej0ZFWaIDxsyF+GToPmi18S6L3vpPbVBWBMerQUw/9B4Lbk4etBul8o9E2kweY616jSAN8kVwvBqkt9MK9EGfyYMGeeUt02/1gaqqt2byENmUTfQ+uzjI8WqQIPetsdVOt+qSNcgrLyWPA8b6VBxvtI5FdNWrBvkiOVoNEtQ2w+m05bDyg/QeUANBPpozeU3X+EmQ2wyn05bDymvpE6bYGYBokFc+ENRdoQbTIK+8lv5aKquEWENk0zUa5P0kGYKcPFhBvvsA9J7weiQqqga37I5PjuxMXnPyfhKGnDyc3nK4/jxXHkI3F1EjGvxaijXqTF75gJ2TD8NMHlxL2ejmIiqrxBHre1Vqr6J4Y2SblGmQ95NEB5THg78XpctBXjcXUVnZM3l78534ZCuF2N83/G1CSoO8nwS5zXC6qnFWUyiXgrxuLqKyGrz5TrzRWiDVE8pmuCPSIO8nQW4znK7IlsPZ6OYiKiu7A6UtwrXyGuT9JCwzeXA1yOvmIiqrwa+lCLc20CDvJ0FvM5yubiaccKflsO6OpLIa3M01wq0NtIQyA8/K8xIdMOpM9x+nFOpmQl83dO2HmsmO371uLqJGlOiw+ijZYpOs7zqTV56W5yVDkpMHqNVulMpDg9M15VVQPSGSM3kN8oN4Vp5nTPhy8qBBXnlj8IlXiOwOURrkB/GsPK+vC/qT4cnJ104HRIO8Kj3TD8ljQydMEW1toEF+EM/K88LS0sBWXmVtSK5BXpVa8hhgMgT5aLY20CA/iGfleQMtDUIS5CFVYaNBXpXYcN1cY43WqteIbTKvQX4Qz8rzwjaTB205rLwxuAOlLT4ZTC/0HCr9mDykJZQZeFKeF5Y2w+nqZlo50N6TUFHj9WhUVAw3YUqvlY9NLO2YPKQzeb8I60we4MRuT4ehIma4dE1EV71qkPeLsGz9l07LKJUXhk3XRHPVqyNBXkQeEJGDIvJK2rFxIvJrEXk99X2sE48VWmHZ+i+dBnnlhWHTNdFc9erUTP77wNWDji0FnjLGzAKeSv2uhpPssPaiLI95PRLnVE+AijoN8qq0BveSt5XHrDbYEQvyjpx4NcZsFJHmQYcXAZenfn4Q2AB81YnHCyW7zbCI1yNxjssth3OlWwVGzOBe8ukiWCvvZnXNGcYY+y1zP3BGpiuJyBJgCcC0adMKe6S3fwWbv1LYbZ0y+wvwrk8XfvswtTRIVzcTjr/u2cPbvYjsVhV2LyJAA31YZWppYIvgqteSlFAaY4yImGEuWwGsAGhpacl4nawqaqGuueDxFe3gRtjzWHFBfqQ/zCCrmwlvr7V683jwKWWkXkQa5ENqpAlTvBGObSvteDzmZpA/ICKNxpi3RaQRcG/frYZLrS+vbLgWuorsUpnogKoQ1cjb6mZafXm6D5w68VVCulVgBA3uJZ8u3gjd+z2bdHjBzRLKNcCnUj9/CnjcxcfylhPd7cLUZjidxxU2ulVgBGVL1/QnoedwacfkIadKKP8beB6YLSJtIvIZYDnwfhF5Hbgq9Xs4xRuh+yD09xZ+H2HOyYNnQV63CoygbOkaiNTJV6eqa/58mIuudOL+fS82CTBWoC90F6SRPmIGmccth+28u1bXRMhIM/lY2obeY88v3Zg8pL1rnGDPDroL3OquL2HlrcPUt8ZWHoOaJk/LKHWrwAgZrpe8zX59dkenwiZSQd61eul42uygEGFsM5zOB7XyKiKG6yVvi0UvXROZ3jWu7t1abJAPY3OydBrkVakMvJaG6aJSEbcmUxGqlY9MkHd179ZYap1XwTP5ELYZTlc70yox7ev2eiQq7BJHrO8jfSqO2KrXyAR5V+uly2PWzKF7f2G3j8JMHqBzt6fDUBEwXAfKdBHb0DsyQd71euli/nDC2GY4nXajVKWSy4QpYq0NIhPkXa+XjhUR5MPYZjidBnlVKrm8lux0jSmsi0rQRCbIu753a3xS4WVZAx8xQ5qTj02E8hoN8sp9OaVrJkN/4lT+PuQiVULpar10vBG6CuyJkTgKUmb1Xg8ju+XwCQ3yymWJDkCsVsPDSa+Gqx5XkmF5KTIzedfFGqG/59RMIh/JDquyRkL836FllKoUEqle8iO9liLW2iDEUaXEiqmVD2ub4XR2kI9IHlR5JJceUBHb0DtS6RpXpe8fOWZOfrcNa5vhdHXvgt4T8GgN4PMWr7GJsPB31ncVLLlMmCI2k9cg75SB5dIF1MqHtc1wuuk3WusI+hNej2Rk/b2w/V9h+7/BvLu8Ho3KVy4z+YpaqBilM3mVp4EmZQX84SQ7rJlumMUaYN63vB5Fbk7uhf/5DpzzlfB/wgqbRAfUzch+vZrJkWlSpjl5p1SOhvJ44Tn5sC6ECpDVm/dx6fL1XLv+TyB5jFefCe8WCKGV6/mtWHRaG2iQd4qI1Ve+4BOvOmP0UnoDu1e6zmTDsQuZ9PZ/8LNNO7wemspHrpvvRGjVqwZ5J9n7R+ajvw96j4c/J+9zgxvYfffgxxhfcZTXn7/Pw1GpvPT3Wa2Gc3kt2W1IIlDtpUHeSYX0r+k9Zn3XdI2nBjeq+/3J8/j9iTncWPewtSeo8r98XkvxRmujHrtvVIhpkHdSIUE+7B0oAyJTo7rvHvwYTVXtsPtHHoxI5S2f11KEauU1yDspNsmaGfTm0b54oKGS5uS9lKmB3Yvd7+Zo9RzYereVClD+lk+jvwjVymuQd1L6Xq+5Cnub4YDI3MDufMa0/D0c2w5tq70eosoml+ZktmJ3cwsQrZN3UvofTi61uhD+NsMBkrGBXf9HYNQsazY/9Yb8m8+p0tF0TUaBn8nbtc0zlj7BpcvXO7Nna6EKmR3kM/tQpVdWDnO+Cu9sgv2/9no0aiT5TJgqR1krXzVd42+ubs5diFha/5pcaU7e/5r/EmqmwKv/x+uRqJHkO2GKSK2860FeRK4Wke0iskNEljp5365uzl2I6garxWkhOfmR+l8rb5VXwdl/Cwefgfbfej0aNZxcesmn88mG3m5nI1wN8iJSDnwXuAaYA/y5iOTZonF4rm7OXYiycoidkf9MvmIUlOnpEV878xaoHg+v3u31SNRwcukln66YLTsdUopshNsz+YuBHcaYncaYBPAwsMipO3d9c+5C5PuHk+sybOWtilqYfTu89XM48rLXo1GZ5PtaiqealHm46rUU2Qi3g3wTsDft97bUsQEiskREWkWktb29Pa87d31z7kLku9dr4qjm44PirNusT11btXGZL+W7+U680drjoPe4e2PKohTZCM9PvBpjVhhjWowxLQ0NDXnd1vXNuQth7/WaK53JB0fVWJh1K+x5FI5r4zLfSXZY/0e58kEZZSmyEW4ngvcBU9N+n5I65hhXN+cuRKwReg5aKyTLyrNfP9EBcR+NX43s7L+xNhTZ+o/w7hVej0alS3RY20zmKr3kebQ3n/7vWDibZT/942kpG6ezEW7P5H8PzBKRGSJSBdwErHH5Mb0VbwTTbwX6XERh678wiU+Cd30Gdn0fTnq4JkMNlTiSZ07e+9YGpchGuDqTN8b0isjngbVAOfCAMeZVNx/Tc+l7vdp/RCOJwtZ/YXPOHbDjP2HbvXDBP3s9GmXLOyfvfboG3M9GuJ6TN8b8whhzljHmXcaY8G+amc9er8ZoTj6I6pph+v+C1++HnsNej0aBtTdv7/H8XksDu7l5XyvvJi3Odlo+e732dlqpHQ3ywXPuUtj9X/Dz2Vag8EJ8Mly1EcqrvXl8P0mmesnnM5MXKaw9eMBokHdaPI/WBtrSILjGzIGW78A7L3nz+CfehANPWVU+9ed6MwY/KbQHVARaG2iQd1p5zJpN5JKu0TbDwXbWbd49dvvz8OunrGCvQb7wzXfijaFf3KZB3g3xxtzSNdpmOLBWb97HPWu381ZHF5Pr49yxcHZpS3lrp1vfT75Zusf0s0JfS/HJ8NaTzo/HRzTIuyHXPJ+2GQ4ku9+IXdts9xsBShfo45OgrAo6d5fm8fyu4HRNo3XCNtkJlXXOj8sHPF/xGkq5BnnNyQeSL7qfShnUTLPSNarwdE0s/DtEaZB3Q2yS1W44W+MjzckHkm+6n9Y1w4ndpX1Mvyo0XVOTqpXPp99UwGiQd0O8Efq6TwXx4ehMPpB80/20drrO5G1Ju5f8qPxuZ8/kT4a3Vl6DvBty3QYw2WHVWGudc6D4pvtpbbP1ibGvu7SP60eJDmuylGsveZvO5FVBcg3y2mY4kHzT/dSusDmxp7SP60eJAleOV9ZDWXWoc/JaXeMGe6/XbNsAakuDwPJF99OBIP8mjD7L27F4rdDX0sCqV03XqHzkPJPPs6GSUulqm63vevK1uNdSyFe96kzeDZVjrJWvuQT56vGlGZMKn/hkkHI9+QrWTL7uXYXdNt4IR51tjuv5Yrk0OpN3g0hue70mNSevilBWATVTdSYPhefkwfEmZaXYnDsfGuTdEp+kOXnlPi2jtBSbrkkehd6TjgzFF4vl0miQd0u22YExxc0+lAIrLx/1mXwhveTT5XoOLUe+WSyXokHeLdnSNX3d0J/QE6+qOLXTrcqQ/qTXI/FOIb3k0zm8Q5RvFsulaJB3S7zRSsf0DvPuPdDSQHPyqgi1062NZ062eT0S7xTb6C+fjX5y4JvFcika5N1ibx7SfSDz5dpmWDlByygLb05mc7i1gW8Wy6VoCaVb0rvb1TUPvVzbDCsnpC+IiqpiJ0zV46Gs0tHWBr5YLJeiM3m3ZPsIqDN55YSaqYBEu698sRMmu+Q5pE3KNMi7JdsZe83JKyeUV1knDqO8Q1Sx6Rqw/g1D2qRMg7xbqhusjnjD7fWqM3nllLrmaM/kB4L82MLvw+EFUX6iOXm3lJVD9cThZweak4+Ekixvr5kOh5539j6DJNlhTagqiti+L94IBzdAX8KxYeVNyqxVzA4r6h5F5GPAN4FzgIuNMa1ply0DPgP0AV8wxqwt5rECaaTZQeIoSIXVT16FUsn2gq2dDnsehf4+a3IRNYX2kk9XMwUSR+ARD/d2mPNVmL/c8bst9m3jFeAG4D/TD4rIHOAm4FxgMrBORM4yxvQNvYsQGynI2y0NREo7JlUyIy1vdzTI1zWD6bUWRdVOde5+gyJxpPi058xPW83eTK8zYyrEhPe4crdFBXljzGsAMjRQLQIeNsb0ALtEZAdwMRCtz5SxSXBkc+bLtM1w6JVseXtNWhllJIO8A+1B4mfAnK84Mx6fcevEaxOwN+33ttSxIURkiYi0ikhre3u7S8PxSLzRWgzVn+EDjPatCb2SLW+312FEdUGUNvobUdYgLyLrROSVDF+LnBiAMWaFMabFGNPS0NDgxF36R7zRWnLek+HNS9sMh17JlrfXTLO+R3VBlH4qHlHWdI0x5qoC7ncfkP65cUrqWLSk18rbbQ5syY5Tl6tQsvPurlfXVMQhNjG6QV5n8iNyq4RyDfAjEbkX68TrLOB3Lj2Wf42016umayKhZMvbo9xyWGfyIyoqJy8i14tIG/Ae4AkRWQtgjHkVeBTYCjwJ3Ba5yhoYedWr/mEqJ0V185D+Xujt1AnTCIqtrlkFrBrmsruAu4q5/8AbLsj3J6HvpObklXNqm6FtjXUOqJh68aAZaA+iQX44uuLVTeUxa7Y+OMgn9A9TOax2OvT3QPfBoed/wqzE7UH8tEF3rjTIuy3TXq/a0kA5Lb2vfJSCfAlfSyVbweywCH2u80imVa/anEw5Lap95Z3oQJkjv23QnSsN8m7LtNerthlWTot6kC/BhMlvG3TnSoO82+KNVidKY04d05m8clrlKKgaF70yyhKma/y2QXeuNMi7LT4J+rpP7SgPmpNX7ohiGWUJ0zV+26A7V3ri1W3pe73a6ZkS/mGqCKlthuP+zg87LuFAL/kclWwFs8M0yLstfa/XMWdbPyePAlKSP0wVIbXTYf+vrNRgVFpYJx3oJZ8HP23QnStN17gt04IoJzY5UGqw2mboPQE9h70eSenoyvGsNMq4za5ZTt/rVfvWKDfYFTZR2tRbX0tZabrGbZX1UFZ9+l6vyaP6h6mGKHo1ZXoZ5bgL3Rmk32gHyqw0yLtNZOiCKDuPqFSKI6sp7c1DOnc7P0C/SnTAqFlej8LXNF1TCoODvH7EVIM4spqysh4qRkWrjFJn8llpkC+F2KD+NXqySA3iyGpKEWs2H6UFUfpaykqDfCkMSddoTl6dzrHVlDURWhClveRzokG+FOKNkDhirXw1/dbqV83JqzSOraaM0kxee8nnRE+8lsJArfz+1B+k0T9MdRrHVlPWTreCX+Jo+BvgDawcH+vtOHxOg3wpZNrrVfOIahBHVlOml1FWnV/8oPzM7gGlr6URaZAvhfRVr+WpHGvYZ1nKG+mbh4wNeZB3qAdUEHd7yocG+VJID/JV46yfdfah3BClvvKJI9b3IoJ8UHd7yoeeeC2F6olWn5qut7XNsHJXdYP1aTEKJ18d2JchqLs95UODfCmUlVsvvu792mZYuUskOn3lHZgwBXW3p3xokC8Vu1beLvvSEkrlltrp0ZnJF9lLPqi7PeVDg3yp2Hu9DnzE1CCvXFLbHI2ZvL3atYje+UHd7SkfRQV5EblHRLaJyB9EZJWI1KddtkxEdojIdhFZWPxQA87e6zXRYc08yvSct3JJ7XToOWT1lg8zB/rWLF7QxN03zKWpPo4ATfVx7r5hbmhOukLx1TW/BpYZY3pF5NvAMuCrIjIHuAk4F5gMrBORs4wxfSPcV7jFJ0H3QUi8o/l45a6BMso3YcwcT4fiKof61gRxt6d8FDWTN8b8yhjTm/r1BWBK6udFwMPGmB5jzC5gB3BxMY8VeLFGMH3QuUNTNcpdUSmj1A6UOXEyJ/9p4Jepn5uAvWmXtaWODSEiS0SkVURa29vbHRyOz9i18kdf0z9M5a70BVFhpi27c5I1XSMi64BJGS76ujHm8dR1vg70Ag/lOwBjzApgBUBLS4vJ9/aBYQf5xDu6EEq5Kz4JyqrCP5PXNsM5yRrkjTFXjXS5iNwMXAtcaYyxg/Q+YGra1aakjkVXPO19Umcfyk1SBjVTwx/kNV2Tk2Kra64GvgJcZ4w5mXbRGuAmEakWkRnALOB3xTxW4MUaT/2sOXnlttrmcG8D2J+0qod0Jp9VsTn57wCjgF+LyBYRuR/AGPMq8CiwFXgSuC3SlTUAFfFTwV1nH8pttdPhZIhn8gntJZ+rokoojTFnjnDZXcBdxdx/6MQbrRWvOvsYkEwmaWtro7u72+uhhEYsFmNKzVlUdj1gbVRTHvN6SM7THlA50xU5pRSbBMe26R9mmra2NkaNGkVzczNSxMpFZTHGcPjwYdpOvpcZACf2wuhZXg/LeQ40J4sKbWtQSnaFjebkB3R3dzN+/HgN8A4REcaPH0+3SfVzCWsZpc7kc6ZBvkRWb97Hf/8xCcDfrNrN6s3RLjZKpwHeWSICkvqQHtYKG+3mmjMN8iVgb0yws3M0ADuPVrDsp3/UQK/cI+XWV9iDvKZrstIgXwL2xgS7Ek30mTIO9I4P3cYEYfHNb36Tf/qnfyrotlu2bOEXv/iFI/c1nMcff5zzzz+f+fPn09LSwnPPPZf5iiJQM0XTNUqDfCnYGxCsO3Yxl29fwf7khNOOq3AYHOTdcOWVV/Lyyy+zZcsWHnjgAf76r/96+CuHefMQB3rJR4VW15TA5Po4+zq6AGFvYtJpx6Mg542SN90OR7Y4++Bj58OF/zriVe666y4efPBBJk6cyNSpU7nwwgsBeOONN7jttttob2+npqaG733ve5x99tncfPPNxGIxWltbOXbsGPfeey8f+MAH+MY3vkFXVxfPPfccy5YtA2Dr1q1cfvnl7Nmzh9tvv50vfOELRT2durpTQe3EiRMjn8+obYYDTxf1eL7lQC/5qNAgXwJ3LJx92mbBEL6NCYbj942SN23axMMPP8yWLVvo7e3lggsuGAjyS5Ys4f7772fWrFm8+OKLfO5zn2P9+vUA7N69m9/97ne88cYbXHHFFezYsYM777yT1tZWvvOd7wBWumbbtm08/fTTHD9+nNmzZ3PrrbdSWVl52nFf84EAAAxQSURBVBhuvPFGtm8fmrr70pe+xCc/+ckhx1etWsWyZcs4ePAgTzzxxPBPrnY65uQ+/mz5r9jbkRz5DTZotKVBzjTIl4D9osppNhsyI22UPOT5Z5lxu+HZZ5/l+uuvp6amBoDrrrsOgM7OTn7729/ysY99bOC6PT09Az9//OMfp6ysjFmzZjFz5ky2bduW8f4/9KEPUV1dTXV1NRMnTuTAgQNMmTLltOs88sgjeY35+uuv5/rrr2fjxo383d/9HevWrct4vc2HR7OAfvpP7MUwyXdvsEXR5mQ50yBfImHfmGA4Qd0oub+/n/r6erZsyZw+GpwmGS5tUl1dPfBzeXk5vb29Q66T70zedtlll7Fz504OHTrEhAkThlz+/7bAgjNgStVB2pJWmnDYN9igSXZA1VivRxEIeuJVucrvGyVfdtllrF69mq6uLo4fP87PfvYzAEaPHs2MGTN47LHHAGsl6csvvzxwu8cee4z+/n7eeOMNdu7cyezZsxk1ahTHjx/PewyPPPIIW7ZsGfKVKcDv2LEDu9nrSy+9RE9PD+PHj894v384Yi26a6o6fZ8Gv7/B5kR7yedMg7xyld83Sr7gggu48cYbmTdvHtdccw0XXXTRwGUPPfQQK1euZN68eZx77rk8/vjjA5dNmzaNiy++mGuuuYb777+fWCzGFVdcwdatW5k/f37eKZhc/eQnP+G8885j/vz53HbbbTzyyCPDn3ytmUq/EaZUHjjtsF/eYIuiQT5ncqoFvPdaWlpMa2ur18NQDhupuua1117jnHPO8XiE+bn55pu59tpr+ehHP+r1UIb12muvsb17NO/5wzyeOb6Ar7TdDlhvsEHeqNr+W/pV04d4/MSHqXn3vwT2uThJRDYZY1oyXaY5eeW6qJ6P8NriBU0c3j2Dd/UdQiDwJ/ztSq1ksofaad28dbKalWE5kewiDfJK5en73/++10PI2fiJsxhf/iK7Pv0hr4dSNLtSa1z5CQCO9dWG50SyizQnr1SY1U6HE3ugP/h79tgnjEeXdwJwrK/utOMqMw3ySoVZbTOYXuh+2+uRFM0+YTw6bSafflxlpkFeqTCrnW59z9LDZvXmfVy6fD0zlj7BpcvX+7JDql2plR7k/VSp5Veak1cqzGqbre+du6Hh0oxX8XvrCZs9ltaNzwMQqx3P3e8LbqVQqWiQVypHGzZsoKqqive+970F30ddXR2dnZ0OjiqL2mnW97bV0J95H93XnnuND9clMxxfx+LR/ipvXTwaFr97D+yEH966EGo0wGejQV4FSs4dLV2wYcMG6urqigryJVdRA6POgr0/tr4yWDYeyLxoFl50bWTFqRwN1UNbOaihNMirwHArrbB48WL27t1Ld3c3X/ziF1myZAlPPvkkX/va1+jr62PChAmsXLmS+++/n/Lycn74wx/y7//+76xcufK0RVH2LL2zs5NFixZx5MgRkskk3/rWt1i0aFHx/wCFumYz9Bwe9uLr/+9v2H9s6Cx/0ugYqz6XOcXjpLWv7mf5L7fR3XuqAihWUc7Sa85m4bmTMt+oqh7KY66PLQw0yKvAyKujZR4eeOABxo0bR1dXFxdddBGLFi3illtuYePGjcyYMYN33nmHcePG8dnPfpa6ujq+/OUvA7By5cqM9xeLxVi1ahWjR4/m0KFDXHLJJVx33XXe7WVbUWN9DeNTV/1pxlbYX71qLtS6/ynpzvWvs69r3OkHk3Dn+uMsvPiizDdSOdMgrwLDrY6W9913H6tWrQJg7969rFixgssuu4wZM2YAMG7cuJFuPoQxhq997Wts3LiRsrIy9u3bx4EDB5g0aZhZqcfybYXtdMosqJ1Kg6KoIC8i/wAsAvqBg8DNxpi3xJqy/BvwQeBk6vhLxQ5WRdupHbaGHi/Uhg0bWLduHc8//zw1NTVcfvnlzJ8/f9j+8OkqKiro7+8HrNbEiUQCsBqbtbe3s2nTJiorK2lubqa7O/NJT7/ItfVEPimzXN8M3Ph/VacUWyd/jzHmfGPMfODnwDdSx68BZqW+lgD/UeTjKOVKR8ujR48yduxYampq2LZtGy+88ALd3d1s3LiRXbt2AfDOO+8ADGkl3NzczKZNmwBYs2YNyWRy4D4nTpxIZWUlTz/9NG++GZ59VkdKmaWz3wz2dXRhOPVmkKn+3u+dSoOuqCBvjDmW9mstYLe0XAT8wFheAOpFpLGYx1Jq8YIm7r5hLk31cQRoqo8X3VHx6quvpre3l3POOYelS5dyySWX0NDQwIoVK7jhhhuYN28eN954IwAf/vCHWbVqFfPnz+fZZ5/llltu4ZlnnmHevHk8//zz1NZaKzD/4i/+gtbWVubOncsPfvADzj77bCeevi/kmlrJ9c0A3Pl/VacU3WpYRO4CPgkcBa4wxrSLyM+B5caY51LXeQr4qjFmSB9hEVmCNdtn2rRpF4Zp1qOyC2Kr4SBw69/10uXrM6ZWmurj/Gbp+wZ+n7H0CTJFFgF2LQ9+szS/GanVcNaZvIisE5FXMnwtAjDGfN0YMxV4CPh8voMzxqwwxrQYY1oaGhryvblSqoRyTa34fUewKMka5I0xVxljzsvw9figqz4EfCT18z5gatplU1LHlFIBlmtqRfPs/lFsdc0sY8zrqV8XAXZJwhrg8yLyMPBu4KgxJvht8JQrjDHe1ZCHkNu7veVSiZNvWaZyT7F18stFZDZWCeWbwGdTx3+BVT65A6uE8q+KfBwVUrFYjMOHDzN+/HgN9A4wxnD48GFiMe9Xg+qOYP5QVJA3xnxkmOMGuK2Y+1bRMGXKFNra2mhvb/d6KKERi8WYMmWK18NQPqErXpWnKisrB1aWKqWcp5uGKKVUiGmQV0qpENMgr5RSIVb0ilcniUg7VpVOISYAhxwcThDoc44Gfc7RUMxznm6Mybia1FdBvhgi0jrcst6w0uccDfqco8Gt56zpGqWUCjEN8kopFWJhCvIrvB6AB/Q5R4M+52hw5TmHJievlFJqqDDN5JVSSg2iQV4ppUIsUEFeRK4Wke0iskNElma4vFpEHkld/qKINJd+lM7K4Tl/SUS2isgfROQpEZnuxTidlO05p13vIyJiRCTwpXa5PGcR+Xjq//pVEflRqcfotBz+tqeJyNMisjn19/1BL8bpJBF5QEQOisgrw1wuInJf6t/kDyJyQdEPaowJxBdQDrwBzASqgJeBOYOu8zng/tTPNwGPeD3uEjznK4Ca1M+3RuE5p643CtgIvAC0eD3uEvw/zwI2A2NTv0/0etwleM4rgFtTP88Bdns9bgee92XABcArw1z+QeCXWDslXgK8WOxjBmkmfzGwwxiz0xiTAB7G2qgk3SLgwdTPPwaulGA3Kc/6nI0xTxtjTqZ+fQFrF64gy+X/GeAfgG8D3aUcnEtyec63AN81xhwBMMYcLPEYnZbLczbA6NTPY4C3Sjg+VxhjNgLvjHCVRcAPjOUFoF5EGot5zCAF+SZgb9rvbaljGa9jjOnF2lx8fElG545cnnO6z2DNAoIs63NOfYSdaox5opQDc1Eu/89nAWeJyG9E5AURubpko3NHLs/5m8AnRKQNayOi/12aoXkq39d8VtpPPiRE5BNAC/BnXo/FTSJSBtwL3OzxUEqtAitlcznWp7WNIjLXGNPh6ajc9efA940x/ywi7wH+S0TOM8b0ez2wIAnSTD6XzcEHriMiFVgf8Q6XZHTuyGlDdBG5Cvg6cJ0xpqdEY3NLtuc8CjgP2CAiu7HylmsCfvI1l//nNmCNMSZpjNkF/A9W0A+qXJ7zZ4BHAYwxzwMxrCZeYZbTaz4fQQryvwdmicgMEanCOrG6ZtB11gCfSv38UWC9SZ3NCKisz1lEFgD/iRXgg56nhSzP2Rhz1BgzwRjTbIxpxjoPcZ0xptWb4Toil7/t1VizeERkAlb6ZmcpB+mwXJ7zHuBKABE5ByvIh32fyDXAJ1NVNpcAR40xbxdzh4FJ1xhjekXk88BarDPzDxhjXhWRO4FWY8waYCXWR7odWCc3bvJuxMXL8TnfA9QBj6XOMe8xxlzn2aCLlONzDpUcn/Na4AMishXoA+4wxgT2U2qOz/lvge+JyN9gnYS9OeCTNkTkv7HerCekzjX8PVAJYIy5H+vcwweBHcBJ4K+KfsyA/5sppZQaQZDSNUoppfKkQV4ppUJMg7xSSoWYBnmllAoxDfJKKRViGuSVUirENMgrpVSI/X/YjmSy4/QCuwAAAABJRU5ErkJggg==\n",
                  "text/plain": "<Figure size 432x288 with 1 Axes>"
                },
                "metadata": {
                  "needs_background": "light"
                }
              }
            ],
            "_view_module": "@jupyter-widgets/output",
            "_model_module_version": "1.0.0",
            "_view_count": null,
            "_view_module_version": "1.0.0",
            "layout": "IPY_MODEL_65ad5441f67544c1891defe8966d8666",
            "_model_module": "@jupyter-widgets/output"
          }
        },
        "99d1828f05d8459bb8aed46c0e78a50c": {
          "model_module": "@jupyter-widgets/controls",
          "model_name": "SliderStyleModel",
          "model_module_version": "1.5.0",
          "state": {
            "_view_name": "StyleView",
            "handle_color": null,
            "_model_name": "SliderStyleModel",
            "description_width": "",
            "_view_module": "@jupyter-widgets/base",
            "_model_module_version": "1.5.0",
            "_view_count": null,
            "_view_module_version": "1.2.0",
            "_model_module": "@jupyter-widgets/controls"
          }
        },
        "ac0f4bc773624a9a96bdab83d0c9ad8a": {
          "model_module": "@jupyter-widgets/base",
          "model_name": "LayoutModel",
          "model_module_version": "1.2.0",
          "state": {
            "_view_name": "LayoutView",
            "grid_template_rows": null,
            "right": null,
            "justify_content": null,
            "_view_module": "@jupyter-widgets/base",
            "overflow": null,
            "_model_module_version": "1.2.0",
            "_view_count": null,
            "flex_flow": null,
            "width": null,
            "min_width": null,
            "border": null,
            "align_items": null,
            "bottom": null,
            "_model_module": "@jupyter-widgets/base",
            "top": null,
            "grid_column": null,
            "overflow_y": null,
            "overflow_x": null,
            "grid_auto_flow": null,
            "grid_area": null,
            "grid_template_columns": null,
            "flex": null,
            "_model_name": "LayoutModel",
            "justify_items": null,
            "grid_row": null,
            "max_height": null,
            "align_content": null,
            "visibility": null,
            "align_self": null,
            "height": null,
            "min_height": null,
            "padding": null,
            "grid_auto_rows": null,
            "grid_gap": null,
            "max_width": null,
            "order": null,
            "_view_module_version": "1.2.0",
            "grid_template_areas": null,
            "object_position": null,
            "object_fit": null,
            "grid_auto_columns": null,
            "margin": null,
            "display": null,
            "left": null
          }
        },
        "65ad5441f67544c1891defe8966d8666": {
          "model_module": "@jupyter-widgets/base",
          "model_name": "LayoutModel",
          "model_module_version": "1.2.0",
          "state": {
            "_view_name": "LayoutView",
            "grid_template_rows": null,
            "right": null,
            "justify_content": null,
            "_view_module": "@jupyter-widgets/base",
            "overflow": null,
            "_model_module_version": "1.2.0",
            "_view_count": null,
            "flex_flow": null,
            "width": null,
            "min_width": null,
            "border": null,
            "align_items": null,
            "bottom": null,
            "_model_module": "@jupyter-widgets/base",
            "top": null,
            "grid_column": null,
            "overflow_y": null,
            "overflow_x": null,
            "grid_auto_flow": null,
            "grid_area": null,
            "grid_template_columns": null,
            "flex": null,
            "_model_name": "LayoutModel",
            "justify_items": null,
            "grid_row": null,
            "max_height": null,
            "align_content": null,
            "visibility": null,
            "align_self": null,
            "height": null,
            "min_height": null,
            "padding": null,
            "grid_auto_rows": null,
            "grid_gap": null,
            "max_width": null,
            "order": null,
            "_view_module_version": "1.2.0",
            "grid_template_areas": null,
            "object_position": null,
            "object_fit": null,
            "grid_auto_columns": null,
            "margin": null,
            "display": null,
            "left": null
          }
        }
      }
    }
  },
  "cells": [
    {
      "cell_type": "markdown",
      "metadata": {
        "id": "view-in-github",
        "colab_type": "text"
      },
      "source": [
        "<a href=\"https://colab.research.google.com/github/Diwakar-Gupta/LrcDataScience/blob/main/22-01-31-Decision_Tree/Codes.ipynb\" target=\"_parent\"><img src=\"https://colab.research.google.com/assets/colab-badge.svg\" alt=\"Open In Colab\"/></a>"
      ]
    },
    {
      "cell_type": "code",
      "execution_count": null,
      "metadata": {
        "id": "vGrnLObZkJuE"
      },
      "outputs": [],
      "source": [
        "import numpy as np\n",
        "import matplotlib.pyplot as plt"
      ]
    },
    {
      "cell_type": "markdown",
      "source": [
        "# Gini Entropy\n",
        "\n",
        "splitter{“best”, “random”}"
      ],
      "metadata": {
        "id": "qqQnbnS-7ACX"
      }
    },
    {
      "cell_type": "code",
      "source": [
        "x = np.linspace(0, 1, 200)\n",
        "ye = -x*np.log(x) + -(1-x)*np.log(1-x)\n",
        "yg = 1 - (x*x + (1-x)**2)"
      ],
      "metadata": {
        "colab": {
          "base_uri": "https://localhost:8080/"
        },
        "id": "_lctrJrbF9b-",
        "outputId": "66ab6a38-686e-41a7-eb4b-314be3b3e01a"
      },
      "execution_count": null,
      "outputs": [
        {
          "output_type": "stream",
          "name": "stderr",
          "text": [
            "/usr/local/lib/python3.7/dist-packages/ipykernel_launcher.py:2: RuntimeWarning: divide by zero encountered in log\n",
            "  \n",
            "/usr/local/lib/python3.7/dist-packages/ipykernel_launcher.py:2: RuntimeWarning: invalid value encountered in multiply\n",
            "  \n"
          ]
        }
      ]
    },
    {
      "cell_type": "code",
      "source": [
        "plt.plot(x, ye)\n",
        "plt.plot(x, yg)"
      ],
      "metadata": {
        "colab": {
          "base_uri": "https://localhost:8080/",
          "height": 282
        },
        "id": "GIEKDEbSF9NM",
        "outputId": "4a052376-28c7-4bb3-8502-f9773aba7047"
      },
      "execution_count": null,
      "outputs": [
        {
          "output_type": "execute_result",
          "data": {
            "text/plain": [
              "[<matplotlib.lines.Line2D at 0x7f91df01cbd0>]"
            ]
          },
          "metadata": {},
          "execution_count": 52
        },
        {
          "output_type": "display_data",
          "data": {
            "image/png": "[encoded data removed]",
            "text/plain": [
              "<Figure size 432x288 with 1 Axes>"
            ]
          },
          "metadata": {
            "needs_background": "light"
          }
        }
      ]
    },
    {
      "cell_type": "markdown",
      "source": [
        "# Probelms\n",
        "\n",
        "\n",
        "\n",
        "*   Even Odd  <\n",
        "*   Ordinal\n",
        "*   Nominal\n",
        "\n",
        "\n",
        "\n",
        "1.   Depth\n",
        "2.   pruning ccp_alphanon\n",
        "\n",
        "\n",
        "\n",
        "sklearn decision tree dont support categorical features"
      ],
      "metadata": {
        "id": "DitjZ54I8pwe"
      }
    },
    {
      "cell_type": "markdown",
      "source": [
        "## EvenOdd\n"
      ],
      "metadata": {
        "id": "rQ9KWzlkFMZv"
      }
    },
    {
      "cell_type": "code",
      "source": [
        "import numpy as np"
      ],
      "metadata": {
        "id": "sNF91Ebq-tM0"
      },
      "execution_count": null,
      "outputs": []
    },
    {
      "cell_type": "code",
      "source": [
        "x = np.arange(1000)\n",
        "y = x%2\n",
        "y[0:100] = 0\n",
        "y[50] = 1"
      ],
      "metadata": {
        "id": "ry3V_Vzym5OP"
      },
      "execution_count": null,
      "outputs": []
    },
    {
      "cell_type": "code",
      "source": [
        "X = x.reshape(-1, 1)"
      ],
      "metadata": {
        "id": "89ClBvIyFycC"
      },
      "execution_count": null,
      "outputs": []
    },
    {
      "cell_type": "code",
      "source": [
        "from sklearn.tree import DecisionTreeClassifier\n",
        "\n",
        "clf = DecisionTreeClassifier(max_depth=3)\n",
        "clf.fit(X, y)"
      ],
      "metadata": {
        "colab": {
          "base_uri": "https://localhost:8080/"
        },
        "id": "fsRdJhEFFebh",
        "outputId": "0412373f-eae3-4abc-dda6-9608defc377f"
      },
      "execution_count": null,
      "outputs": [
        {
          "output_type": "execute_result",
          "data": {
            "text/plain": [
              "DecisionTreeClassifier(max_depth=3)"
            ]
          },
          "metadata": {},
          "execution_count": 35
        }
      ]
    },
    {
      "cell_type": "code",
      "source": [
        "clf.score(X, y)"
      ],
      "metadata": {
        "colab": {
          "base_uri": "https://localhost:8080/"
        },
        "id": "Pu9LwJ_0FweS",
        "outputId": "4b38b4d8-6f19-498e-c0e6-b2125a1cda81"
      },
      "execution_count": null,
      "outputs": [
        {
          "output_type": "execute_result",
          "data": {
            "text/plain": [
              "0.552"
            ]
          },
          "metadata": {},
          "execution_count": 36
        }
      ]
    },
    {
      "cell_type": "code",
      "source": [
        "print(clf.get_depth())"
      ],
      "metadata": {
        "colab": {
          "base_uri": "https://localhost:8080/"
        },
        "id": "adSptYLiFxGj",
        "outputId": "c48d006e-a810-488d-d0b5-3e825faa872a"
      },
      "execution_count": null,
      "outputs": [
        {
          "output_type": "stream",
          "name": "stdout",
          "text": [
            "3\n"
          ]
        }
      ]
    },
    {
      "cell_type": "code",
      "source": [
        "from sklearn import tree\n",
        "\n",
        "plt.figure(figsize=(10, 10))\n",
        "\n",
        "tree.plot_tree(clf, feature_names=['x1'], filled = True)\n",
        "plt.show()"
      ],
      "metadata": {
        "colab": {
          "base_uri": "https://localhost:8080/",
          "height": 575
        },
        "id": "TPw2dZYz-t7c",
        "outputId": "25645555-441e-48f7-e2a0-0fd8431d90fd"
      },
      "execution_count": null,
      "outputs": [
        {
          "output_type": "display_data",
          "data": {
            "image/png": "[encoded data removed]",
            "text/plain": [
              "<Figure size 720x720 with 1 Axes>"
            ]
          },
          "metadata": {
            "needs_background": "light"
          }
        }
      ]
    },
    {
      "cell_type": "markdown",
      "source": [
        "## Regression"
      ],
      "metadata": {
        "id": "opYXIgtMnA3q"
      }
    },
    {
      "cell_type": "code",
      "source": [
        "x = np.linspace(1, 360, 30)\n",
        "y = np.sin(np.deg2rad(x))*30\n",
        "x /= x.max()\n",
        "\n",
        "plt.scatter(x, y)"
      ],
      "metadata": {
        "colab": {
          "base_uri": "https://localhost:8080/",
          "height": 282
        },
        "id": "2_wFvs7JkbWh",
        "outputId": "51c1fe4d-ba2f-4158-d322-a5d85bc1e217"
      },
      "execution_count": null,
      "outputs": [
        {
          "output_type": "execute_result",
          "data": {
            "text/plain": [
              "<matplotlib.collections.PathCollection at 0x7f61ca38e310>"
            ]
          },
          "metadata": {},
          "execution_count": 45
        },
        {
          "output_type": "display_data",
          "data": {
            "image/png": "[encoded data removed]",
            "text/plain": [
              "<Figure size 432x288 with 1 Axes>"
            ]
          },
          "metadata": {
            "needs_background": "light"
          }
        }
      ]
    },
    {
      "cell_type": "code",
      "source": [
        "from sklearn.tree import DecisionTreeRegressor\n",
        "\n",
        "X = x.reshape(-1, 1)\n",
        "\n",
        "model = DecisionTreeRegressor(max_depth = 3)\n",
        "\n",
        "model.fit(X, y)"
      ],
      "metadata": {
        "colab": {
          "base_uri": "https://localhost:8080/"
        },
        "id": "5LeWWyaBknYJ",
        "outputId": "b7918381-5f85-4ca8-98e0-410dc3fd8932"
      },
      "execution_count": null,
      "outputs": [
        {
          "output_type": "execute_result",
          "data": {
            "text/plain": [
              "DecisionTreeRegressor(max_depth=3)"
            ]
          },
          "metadata": {},
          "execution_count": 46
        }
      ]
    },
    {
      "cell_type": "code",
      "source": [
        "for i in [3, 5]:\n",
        "    model = DecisionTreeRegressor(max_depth = i)\n",
        "    model.fit(X, y)\n",
        "    plt.plot(x, model.predict(X), label = 'depth = {}'.format(i))\n",
        "    \n",
        "plt.scatter(x, y, label = 'actual')\n",
        "plt.legend()"
      ],
      "metadata": {
        "colab": {
          "base_uri": "https://localhost:8080/",
          "height": 282
        },
        "id": "yI3HW1jplGD9",
        "outputId": "e4e21a37-de2a-4ea4-eccf-2506d90a6e7a"
      },
      "execution_count": null,
      "outputs": [
        {
          "output_type": "execute_result",
          "data": {
            "text/plain": [
              "<matplotlib.legend.Legend at 0x7f61ca16b550>"
            ]
          },
          "metadata": {},
          "execution_count": 47
        },
        {
          "output_type": "display_data",
          "data": {
            "image/png": "[encoded data removed]",
            "text/plain": [
              "<Figure size 432x288 with 1 Axes>"
            ]
          },
          "metadata": {
            "needs_background": "light"
          }
        }
      ]
    },
    {
      "cell_type": "markdown",
      "source": [
        "[Interaction](https://ipywidgets.readthedocs.io/en/latest/examples/Using%20Interact.html#:~:text=The%20interact%20function%20(%20ipywidgets.,get%20started%20using%20IPython's%20widgets.)"
      ],
      "metadata": {
        "id": "M_lBdOzTfJti"
      }
    },
    {
      "cell_type": "code",
      "source": [
        "from ipywidgets import interact\n",
        "import matplotlib.pyplot as plt\n",
        "\n",
        "def fun(max_depth):\n",
        "    model = DecisionTreeRegressor(max_depth = max_depth)\n",
        "    model.fit(X, y)\n",
        "    plt.plot(x, model.predict(X), label = 'depth = {}'.format(max_depth), color = 'orange')\n",
        "    plt.scatter(x, y, label = 'actual')\n",
        "    plt.legend()\n",
        "\n",
        "interact(fun, max_depth=3);"
      ],
      "metadata": {
        "colab": {
          "base_uri": "https://localhost:8080/",
          "height": 297,
          "referenced_widgets": [
            "2abe68b68a224eb3a421c6f03e0bad68",
            "1ab7500b055a45cb95b48c416a3584ae",
            "9f45485087434cbb863943745e24b2ff",
            "e8628017b06442238868e70857a976b3",
            "a0f0e00cbf4d474ea7ba1bdcaff6973d",
            "09d39510ede54cc8a227b3eed3949746",
            "9f17fc1dbd0f44e19ca050bf85cf1aaa"
          ]
        },
        "id": "3yWWGjcpaoj0",
        "outputId": "c14cc151-b33d-4faa-f44c-ef56dbc1b4e9"
      },
      "execution_count": null,
      "outputs": [
        {
          "output_type": "display_data",
          "data": {
            "application/vnd.jupyter.widget-view+json": {
              "model_id": "2abe68b68a224eb3a421c6f03e0bad68",
              "version_minor": 0,
              "version_major": 2
            },
            "text/plain": [
              "interactive(children=(IntSlider(value=3, description='max_depth', max=9, min=-3), Output()), _dom_classes=('wi…"
            ]
          },
          "metadata": {}
        }
      ]
    },
    {
      "cell_type": "markdown",
      "source": [
        "## Noise"
      ],
      "metadata": {
        "id": "NCe8QsuNmNTl"
      }
    },
    {
      "cell_type": "code",
      "source": [
        "y[4] *= -1\n",
        "y[10] *= -1\n",
        "y[18] *= -1\n",
        "y[25] *= -1\n",
        "\n",
        "plt.scatter(x, y)"
      ],
      "metadata": {
        "colab": {
          "base_uri": "https://localhost:8080/",
          "height": 282
        },
        "id": "fJw3mE-UmOcp",
        "outputId": "ef2a2675-3ab5-4f68-c65d-91fcbf1a0134"
      },
      "execution_count": null,
      "outputs": [
        {
          "output_type": "execute_result",
          "data": {
            "text/plain": [
              "<matplotlib.collections.PathCollection at 0x7f61ca354dd0>"
            ]
          },
          "metadata": {},
          "execution_count": 49
        },
        {
          "output_type": "display_data",
          "data": {
            "image/png": "[encoded data removed]",
            "text/plain": [
              "<Figure size 432x288 with 1 Axes>"
            ]
          },
          "metadata": {
            "needs_background": "light"
          }
        }
      ]
    },
    {
      "cell_type": "code",
      "source": [
        "plt.figure(figsize = (8, 7))\n",
        "\n",
        "for i in [2, 5]:\n",
        "    model = DecisionTreeRegressor(max_depth = i)\n",
        "    model.fit(X, y)\n",
        "    plt.plot(x, model.predict(X), label = 'depth = {}'.format(i))\n",
        "    \n",
        "plt.scatter(x, y, label = 'actual')\n",
        "plt.legend()"
      ],
      "metadata": {
        "colab": {
          "base_uri": "https://localhost:8080/",
          "height": 445
        },
        "id": "2Wxw6uJnmeHh",
        "outputId": "afbf2228-4c7b-43d6-ddeb-83b3fa4d024b"
      },
      "execution_count": null,
      "outputs": [
        {
          "output_type": "execute_result",
          "data": {
            "text/plain": [
              "<matplotlib.legend.Legend at 0x7f61c9b2fe10>"
            ]
          },
          "metadata": {},
          "execution_count": 50
        },
        {
          "output_type": "display_data",
          "data": {
            "image/png": "[encoded data removed]",
            "text/plain": [
              "<Figure size 576x504 with 1 Axes>"
            ]
          },
          "metadata": {
            "needs_background": "light"
          }
        }
      ]
    },
    {
      "cell_type": "code",
      "source": [
        "interact(fun, max_depth=3)"
      ],
      "metadata": {
        "colab": {
          "base_uri": "https://localhost:8080/",
          "height": 314,
          "referenced_widgets": [
            "668477cd2ca14383b58fe369e3e9962e",
            "379902006f37408eb9beca85103c7e0d",
            "c4e14e51d4e44367a68ca3613e0bf5ee",
            "f0aef025b029482fabf6f3cb03a1e855",
            "99d1828f05d8459bb8aed46c0e78a50c",
            "ac0f4bc773624a9a96bdab83d0c9ad8a",
            "65ad5441f67544c1891defe8966d8666"
          ]
        },
        "id": "_zUuByLudVyL",
        "outputId": "18b12848-98d2-4aa7-b4e3-e672df3533f4"
      },
      "execution_count": null,
      "outputs": [
        {
          "output_type": "display_data",
          "data": {
            "application/vnd.jupyter.widget-view+json": {
              "model_id": "668477cd2ca14383b58fe369e3e9962e",
              "version_minor": 0,
              "version_major": 2
            },
            "text/plain": [
              "interactive(children=(IntSlider(value=3, description='max_depth', max=9, min=-3), Output()), _dom_classes=('wi…"
            ]
          },
          "metadata": {}
        },
        {
          "output_type": "execute_result",
          "data": {
            "text/plain": [
              "<function __main__.fun>"
            ]
          },
          "metadata": {},
          "execution_count": 51
        }
      ]
    },
    {
      "cell_type": "markdown",
      "source": [
        "# Scratch"
      ],
      "metadata": {
        "id": "DS6qQigX2VgZ"
      }
    },
    {
      "cell_type": "code",
      "source": [
        "import pandas as pd\n",
        "import numpy as np\n",
        "from collections import Counter"
      ],
      "metadata": {
        "id": "k5Y_N2LUJl3u"
      },
      "execution_count": null,
      "outputs": []
    },
    {
      "cell_type": "code",
      "source": [
        "class Node: \n",
        "    \"\"\"\n",
        "    Class for creating the nodes for a decision tree \n",
        "    \"\"\"\n",
        "    def __init__(\n",
        "        self, \n",
        "        Y: list,\n",
        "        X: pd.DataFrame,\n",
        "        min_samples_split=None,\n",
        "        max_depth=None,\n",
        "        depth=None,\n",
        "        node_type=None,\n",
        "        rule=None\n",
        "    ):\n",
        "        # Saving the data to the node \n",
        "        self.Y = Y \n",
        "        self.X = X\n",
        "\n",
        "        # Saving the hyper parameters\n",
        "        self.min_samples_split = min_samples_split if min_samples_split else 20\n",
        "        self.max_depth = max_depth if max_depth else 5\n",
        "\n",
        "        # Default current depth of node \n",
        "        self.depth = depth if depth else 0\n",
        "\n",
        "        # Extracting all the features\n",
        "        self.features = list(self.X.columns)\n",
        "\n",
        "        # Type of node \n",
        "        self.node_type = node_type if node_type else 'root'\n",
        "\n",
        "        # Rule for spliting \n",
        "        self.rule = rule if rule else \"\"\n",
        "\n",
        "        # Calculating the counts of Y in the node \n",
        "        self.counts = Counter(Y)\n",
        "\n",
        "        # Getting the GINI impurity based on the Y distribution\n",
        "        self.gini_impurity = self.get_GINI()\n",
        "\n",
        "        # Sorting the counts and saving the final prediction of the node \n",
        "        counts_sorted = list(sorted(self.counts.items(), key=lambda item: item[1]))\n",
        "\n",
        "        # Getting the last item\n",
        "        yhat = None\n",
        "        if len(counts_sorted) > 0:\n",
        "            yhat = counts_sorted[-1][0]\n",
        "\n",
        "        # Saving to object attribute. This node will predict the class with the most frequent class\n",
        "        self.yhat = yhat \n",
        "\n",
        "        # Saving the number of observations in the node \n",
        "        self.n = len(Y)\n",
        "\n",
        "        # Initiating the left and right nodes as empty nodes\n",
        "        self.left = None \n",
        "        self.right = None \n",
        "\n",
        "        # Default values for splits\n",
        "        self.best_feature = None \n",
        "        self.best_value = None \n",
        "\n",
        "    @staticmethod\n",
        "    def GINI_impurity(y1_count: int, y2_count: int) -> float:\n",
        "        \"\"\"\n",
        "        Given the observations of a binary class calculate the GINI impurity\n",
        "        \"\"\"\n",
        "        # Ensuring the correct types\n",
        "        if y1_count is None:\n",
        "            y1_count = 0\n",
        "\n",
        "        if y2_count is None:\n",
        "            y2_count = 0\n",
        "\n",
        "        # Getting the total observations\n",
        "        n = y1_count + y2_count\n",
        "        \n",
        "        # If n is 0 then we return the lowest possible gini impurity\n",
        "        if n == 0:\n",
        "            return 0.0\n",
        "\n",
        "        # Getting the probability to see each of the classes\n",
        "        p1 = y1_count / n\n",
        "        p2 = y2_count / n\n",
        "        \n",
        "        # Calculating GINI \n",
        "        gini = 1 - (p1 ** 2 + p2 ** 2)\n",
        "        \n",
        "        # Returning the gini impurity\n",
        "        return gini\n",
        "\n",
        "    @staticmethod\n",
        "    def ma(x: np.array, window: int) -> np.array:\n",
        "        \"\"\"\n",
        "        Calculates the moving average of the given list. \n",
        "        \"\"\"\n",
        "        return np.convolve(x, np.ones(window), 'valid') / window\n",
        "\n",
        "    def get_GINI(self):\n",
        "        \"\"\"\n",
        "        Function to calculate the GINI impurity of a node \n",
        "        \"\"\"\n",
        "        # Getting the 0 and 1 counts\n",
        "        y1_count, y2_count = self.counts.get(0, 0), self.counts.get(1, 0)\n",
        "\n",
        "        # Getting the GINI impurity\n",
        "        return self.GINI_impurity(y1_count, y2_count)\n",
        "\n",
        "    def best_split(self) -> tuple:\n",
        "        \"\"\"\n",
        "        Given the X features and Y targets calculates the best split \n",
        "        for a decision tree\n",
        "        \"\"\"\n",
        "        # Creating a dataset for spliting\n",
        "        df = self.X.copy()\n",
        "        df['Y'] = self.Y\n",
        "\n",
        "        # Getting the GINI impurity for the base input \n",
        "        GINI_base = self.get_GINI()\n",
        "\n",
        "        # Finding which split yields the best GINI gain \n",
        "        max_gain = 0\n",
        "\n",
        "        # Default best feature and split\n",
        "        best_feature = None\n",
        "        best_value = None\n",
        "\n",
        "        for feature in self.features:\n",
        "            # Droping missing values\n",
        "            Xdf = df.dropna().sort_values(feature)\n",
        "\n",
        "            # Sorting the values and getting the rolling average\n",
        "            xmeans = self.ma(Xdf[feature].unique(), 2)\n",
        "\n",
        "            for value in xmeans:\n",
        "                # Spliting the dataset \n",
        "                left_counts = Counter(Xdf[Xdf[feature]<value]['Y'])\n",
        "                right_counts = Counter(Xdf[Xdf[feature]>=value]['Y'])\n",
        "\n",
        "                # Getting the Y distribution from the dicts\n",
        "                y0_left, y1_left, y0_right, y1_right = left_counts.get(0, 0), left_counts.get(1, 0), right_counts.get(0, 0), right_counts.get(1, 0)\n",
        "\n",
        "                # Getting the left and right gini impurities\n",
        "                gini_left = self.GINI_impurity(y0_left, y1_left)\n",
        "                gini_right = self.GINI_impurity(y0_right, y1_right)\n",
        "\n",
        "                # Getting the obs count from the left and the right data splits\n",
        "                n_left = y0_left + y1_left\n",
        "                n_right = y0_right + y1_right\n",
        "\n",
        "                # Calculating the weights for each of the nodes\n",
        "                w_left = n_left / (n_left + n_right)\n",
        "                w_right = n_right / (n_left + n_right)\n",
        "\n",
        "                # Calculating the weighted GINI impurity\n",
        "                wGINI = w_left * gini_left + w_right * gini_right\n",
        "\n",
        "                # Calculating the GINI gain \n",
        "                GINIgain = GINI_base - wGINI\n",
        "\n",
        "                # Checking if this is the best split so far \n",
        "                if GINIgain > max_gain:\n",
        "                    best_feature = feature\n",
        "                    best_value = value \n",
        "\n",
        "                    # Setting the best gain to the current one \n",
        "                    max_gain = GINIgain\n",
        "\n",
        "        return (best_feature, best_value)\n",
        "\n",
        "    def grow_tree(self):\n",
        "        \"\"\"\n",
        "        Recursive method to create the decision tree\n",
        "        \"\"\"\n",
        "        # Making a df from the data \n",
        "        df = self.X.copy()\n",
        "        df['Y'] = self.Y\n",
        "\n",
        "        # If there is GINI to be gained, we split further \n",
        "        if (self.depth < self.max_depth) and (self.n >= self.min_samples_split):\n",
        "\n",
        "            # Getting the best split \n",
        "            best_feature, best_value = self.best_split()\n",
        "\n",
        "            if best_feature is not None:\n",
        "                # Saving the best split to the current node \n",
        "                self.best_feature = best_feature\n",
        "                self.best_value = best_value\n",
        "\n",
        "                # Getting the left and right nodes\n",
        "                left_df, right_df = df[df[best_feature]<=best_value].copy(), df[df[best_feature]>best_value].copy()\n",
        "\n",
        "                # Creating the left and right nodes\n",
        "                left = Node(\n",
        "                    left_df['Y'].values.tolist(), \n",
        "                    left_df[self.features], \n",
        "                    depth=self.depth + 1, \n",
        "                    max_depth=self.max_depth, \n",
        "                    min_samples_split=self.min_samples_split, \n",
        "                    node_type='left_node',\n",
        "                    rule=f\"{best_feature} <= {round(best_value, 3)}\"\n",
        "                    )\n",
        "\n",
        "                self.left = left \n",
        "                self.left.grow_tree()\n",
        "\n",
        "                right = Node(\n",
        "                    right_df['Y'].values.tolist(), \n",
        "                    right_df[self.features], \n",
        "                    depth=self.depth + 1, \n",
        "                    max_depth=self.max_depth, \n",
        "                    min_samples_split=self.min_samples_split,\n",
        "                    node_type='right_node',\n",
        "                    rule=f\"{best_feature} > {round(best_value, 3)}\"\n",
        "                    )\n",
        "\n",
        "                self.right = right\n",
        "                self.right.grow_tree()\n",
        "\n",
        "    def print_info(self, width=4):\n",
        "        \"\"\"\n",
        "        Method to print the infromation about the tree\n",
        "        \"\"\"\n",
        "        # Defining the number of spaces \n",
        "        const = int(self.depth * width ** 1.5)\n",
        "        spaces = \"-\" * const\n",
        "        \n",
        "        if self.node_type == 'root':\n",
        "            print(\"Root\")\n",
        "        else:\n",
        "            print(f\"|{spaces} Split rule: {self.rule}\")\n",
        "        print(f\"{' ' * const}   | GINI impurity of the node: {round(self.gini_impurity, 2)}\")\n",
        "        print(f\"{' ' * const}   | Class distribution in the node: {dict(self.counts)}\")\n",
        "        print(f\"{' ' * const}   | Predicted class: {self.yhat}\")   \n",
        "\n",
        "    def print_tree(self):\n",
        "        \"\"\"\n",
        "        Prints the whole tree from the current node to the bottom\n",
        "        \"\"\"\n",
        "        self.print_info() \n",
        "        \n",
        "        if self.left is not None: \n",
        "            self.left.print_tree()\n",
        "        \n",
        "        if self.right is not None:\n",
        "            self.right.print_tree()\n",
        "\n",
        "    def predict(self, X:pd.DataFrame):\n",
        "        \"\"\"\n",
        "        Batch prediction method\n",
        "        \"\"\"\n",
        "        predictions = []\n",
        "\n",
        "        for _, x in X.iterrows():\n",
        "            values = {}\n",
        "            for feature in self.features:\n",
        "                values.update({feature: x[feature]})\n",
        "        \n",
        "            predictions.append(self.predict_obs(values))\n",
        "        \n",
        "        return predictions\n",
        "\n",
        "    def predict_obs(self, values: dict) -> int:\n",
        "        \"\"\"\n",
        "        Method to predict the class given a set of features\n",
        "        \"\"\"\n",
        "        cur_node = self\n",
        "        while cur_node.depth < cur_node.max_depth:\n",
        "            # Traversing the nodes all the way to the bottom\n",
        "            best_feature = cur_node.best_feature\n",
        "            best_value = cur_node.best_value\n",
        "\n",
        "            if cur_node.n < cur_node.min_samples_split:\n",
        "                break \n",
        "\n",
        "            if (values.get(best_feature) < best_value):\n",
        "                if self.left is not None:\n",
        "                    cur_node = cur_node.left\n",
        "            else:\n",
        "                if self.right is not None:\n",
        "                    cur_node = cur_node.right\n",
        "            \n",
        "        return cur_node.yhat"
      ],
      "metadata": {
        "id": "QDBFb8_MJ8E4"
      },
      "execution_count": null,
      "outputs": []
    },
    {
      "cell_type": "markdown",
      "source": [
        "# Project"
      ],
      "metadata": {
        "id": "O6NFTBeb2T7O"
      }
    },
    {
      "cell_type": "code",
      "source": [
        "import numpy as np\n",
        "import pandas as pd\n",
        "import matplotlib.pyplot as plt"
      ],
      "metadata": {
        "id": "wZEUDEXa2U6J"
      },
      "execution_count": null,
      "outputs": []
    },
    {
      "cell_type": "code",
      "source": [
        "df = pd.read_csv('https://raw.githubusercontent.com/SrikanthVelpuri/Mushroom-Classification/master/mushrooms.csv')\n",
        "df.sample(5)"
      ],
      "metadata": {
        "colab": {
          "base_uri": "https://localhost:8080/",
          "height": 322
        },
        "id": "vKknjWP4oNWi",
        "outputId": "065389b5-4998-43ba-a7df-105201b91e9d"
      },
      "execution_count": null,
      "outputs": [
        {
          "output_type": "execute_result",
          "data": {
            "text/html": [
              "\n",
              "  <div id=\"df-3460dc97-22f9-4e0c-9399-ac1453e2f0c2\">\n",
              "    <div class=\"colab-df-container\">\n",
              "      <div>\n",
              "<style scoped>\n",
              "    .dataframe tbody tr th:only-of-type {\n",
              "        vertical-align: middle;\n",
              "    }\n",
              "\n",
              "    .dataframe tbody tr th {\n",
              "        vertical-align: top;\n",
              "    }\n",
              "\n",
              "    .dataframe thead th {\n",
              "        text-align: right;\n",
              "    }\n",
              "</style>\n",
              "<table border=\"1\" class=\"dataframe\">\n",
              "  <thead>\n",
              "    <tr style=\"text-align: right;\">\n",
              "      <th></th>\n",
              "      <th>class</th>\n",
              "      <th>cap-shape</th>\n",
              "      <th>cap-surface</th>\n",
              "      <th>cap-color</th>\n",
              "      <th>bruises</th>\n",
              "      <th>odor</th>\n",
              "      <th>gill-attachment</th>\n",
              "      <th>gill-spacing</th>\n",
              "      <th>gill-size</th>\n",
              "      <th>gill-color</th>\n",
              "      <th>stalk-shape</th>\n",
              "      <th>stalk-root</th>\n",
              "      <th>stalk-surface-above-ring</th>\n",
              "      <th>stalk-surface-below-ring</th>\n",
              "      <th>stalk-color-above-ring</th>\n",
              "      <th>stalk-color-below-ring</th>\n",
              "      <th>veil-type</th>\n",
              "      <th>veil-color</th>\n",
              "      <th>ring-number</th>\n",
              "      <th>ring-type</th>\n",
              "      <th>spore-print-color</th>\n",
              "      <th>population</th>\n",
              "      <th>habitat</th>\n",
              "    </tr>\n",
              "  </thead>\n",
              "  <tbody>\n",
              "    <tr>\n",
              "      <th>4787</th>\n",
              "      <td>p</td>\n",
              "      <td>f</td>\n",
              "      <td>f</td>\n",
              "      <td>y</td>\n",
              "      <td>f</td>\n",
              "      <td>f</td>\n",
              "      <td>f</td>\n",
              "      <td>c</td>\n",
              "      <td>b</td>\n",
              "      <td>p</td>\n",
              "      <td>e</td>\n",
              "      <td>b</td>\n",
              "      <td>k</td>\n",
              "      <td>k</td>\n",
              "      <td>b</td>\n",
              "      <td>p</td>\n",
              "      <td>p</td>\n",
              "      <td>w</td>\n",
              "      <td>o</td>\n",
              "      <td>l</td>\n",
              "      <td>h</td>\n",
              "      <td>y</td>\n",
              "      <td>g</td>\n",
              "    </tr>\n",
              "    <tr>\n",
              "      <th>7045</th>\n",
              "      <td>p</td>\n",
              "      <td>f</td>\n",
              "      <td>y</td>\n",
              "      <td>e</td>\n",
              "      <td>f</td>\n",
              "      <td>y</td>\n",
              "      <td>f</td>\n",
              "      <td>c</td>\n",
              "      <td>n</td>\n",
              "      <td>b</td>\n",
              "      <td>t</td>\n",
              "      <td>?</td>\n",
              "      <td>k</td>\n",
              "      <td>s</td>\n",
              "      <td>w</td>\n",
              "      <td>p</td>\n",
              "      <td>p</td>\n",
              "      <td>w</td>\n",
              "      <td>o</td>\n",
              "      <td>e</td>\n",
              "      <td>w</td>\n",
              "      <td>v</td>\n",
              "      <td>p</td>\n",
              "    </tr>\n",
              "    <tr>\n",
              "      <th>5678</th>\n",
              "      <td>p</td>\n",
              "      <td>f</td>\n",
              "      <td>s</td>\n",
              "      <td>b</td>\n",
              "      <td>t</td>\n",
              "      <td>f</td>\n",
              "      <td>f</td>\n",
              "      <td>c</td>\n",
              "      <td>b</td>\n",
              "      <td>w</td>\n",
              "      <td>t</td>\n",
              "      <td>b</td>\n",
              "      <td>f</td>\n",
              "      <td>s</td>\n",
              "      <td>w</td>\n",
              "      <td>w</td>\n",
              "      <td>p</td>\n",
              "      <td>w</td>\n",
              "      <td>o</td>\n",
              "      <td>p</td>\n",
              "      <td>h</td>\n",
              "      <td>s</td>\n",
              "      <td>g</td>\n",
              "    </tr>\n",
              "    <tr>\n",
              "      <th>7746</th>\n",
              "      <td>e</td>\n",
              "      <td>x</td>\n",
              "      <td>s</td>\n",
              "      <td>w</td>\n",
              "      <td>f</td>\n",
              "      <td>n</td>\n",
              "      <td>f</td>\n",
              "      <td>w</td>\n",
              "      <td>b</td>\n",
              "      <td>p</td>\n",
              "      <td>e</td>\n",
              "      <td>?</td>\n",
              "      <td>k</td>\n",
              "      <td>k</td>\n",
              "      <td>w</td>\n",
              "      <td>w</td>\n",
              "      <td>p</td>\n",
              "      <td>w</td>\n",
              "      <td>t</td>\n",
              "      <td>p</td>\n",
              "      <td>w</td>\n",
              "      <td>n</td>\n",
              "      <td>g</td>\n",
              "    </tr>\n",
              "    <tr>\n",
              "      <th>2056</th>\n",
              "      <td>e</td>\n",
              "      <td>x</td>\n",
              "      <td>f</td>\n",
              "      <td>g</td>\n",
              "      <td>t</td>\n",
              "      <td>n</td>\n",
              "      <td>f</td>\n",
              "      <td>c</td>\n",
              "      <td>b</td>\n",
              "      <td>u</td>\n",
              "      <td>t</td>\n",
              "      <td>b</td>\n",
              "      <td>s</td>\n",
              "      <td>s</td>\n",
              "      <td>g</td>\n",
              "      <td>p</td>\n",
              "      <td>p</td>\n",
              "      <td>w</td>\n",
              "      <td>o</td>\n",
              "      <td>p</td>\n",
              "      <td>n</td>\n",
              "      <td>v</td>\n",
              "      <td>d</td>\n",
              "    </tr>\n",
              "  </tbody>\n",
              "</table>\n",
              "</div>\n",
              "      <button class=\"colab-df-convert\" onclick=\"convertToInteractive('df-3460dc97-22f9-4e0c-9399-ac1453e2f0c2')\"\n",
              "              title=\"Convert this dataframe to an interactive table.\"\n",
              "              style=\"display:none;\">\n",
              "        \n",
              "  <svg xmlns=\"http://www.w3.org/2000/svg\" height=\"24px\"viewBox=\"0 0 24 24\"\n",
              "       width=\"24px\">\n",
              "    <path d=\"M0 0h24v24H0V0z\" fill=\"none\"/>\n",
              "    <path d=\"M18.56 5.44l.94 2.06.94-2.06 2.06-.94-2.06-.94-.94-2.06-.94 2.06-2.06.94zm-11 1L8.5 8.5l.94-2.06 2.06-.94-2.06-.94L8.5 2.5l-.94 2.06-2.06.94zm10 10l.94 2.06.94-2.06 2.06-.94-2.06-.94-.94-2.06-.94 2.06-2.06.94z\"/><path d=\"M17.41 7.96l-1.37-1.37c-.4-.4-.92-.59-1.43-.59-.52 0-1.04.2-1.43.59L10.3 9.45l-7.72 7.72c-.78.78-.78 2.05 0 2.83L4 21.41c.39.39.9.59 1.41.59.51 0 1.02-.2 1.41-.59l7.78-7.78 2.81-2.81c.8-.78.8-2.07 0-2.86zM5.41 20L4 18.59l7.72-7.72 1.47 1.35L5.41 20z\"/>\n",
              "  </svg>\n",
              "      </button>\n",
              "      \n",
              "  <style>\n",
              "    .colab-df-container {\n",
              "      display:flex;\n",
              "      flex-wrap:wrap;\n",
              "      gap: 12px;\n",
              "    }\n",
              "\n",
              "    .colab-df-convert {\n",
              "      background-color: #E8F0FE;\n",
              "      border: none;\n",
              "      border-radius: 50%;\n",
              "      cursor: pointer;\n",
              "      display: none;\n",
              "      fill: #1967D2;\n",
              "      height: 32px;\n",
              "      padding: 0 0 0 0;\n",
              "      width: 32px;\n",
              "    }\n",
              "\n",
              "    .colab-df-convert:hover {\n",
              "      background-color: #E2EBFA;\n",
              "      box-shadow: 0px 1px 2px rgba(60, 64, 67, 0.3), 0px 1px 3px 1px rgba(60, 64, 67, 0.15);\n",
              "      fill: #174EA6;\n",
              "    }\n",
              "\n",
              "    [theme=dark] .colab-df-convert {\n",
              "      background-color: #3B4455;\n",
              "      fill: #D2E3FC;\n",
              "    }\n",
              "\n",
              "    [theme=dark] .colab-df-convert:hover {\n",
              "      background-color: #434B5C;\n",
              "      box-shadow: 0px 1px 3px 1px rgba(0, 0, 0, 0.15);\n",
              "      filter: drop-shadow(0px 1px 2px rgba(0, 0, 0, 0.3));\n",
              "      fill: #FFFFFF;\n",
              "    }\n",
              "  </style>\n",
              "\n",
              "      <script>\n",
              "        const buttonEl =\n",
              "          document.querySelector('#df-3460dc97-22f9-4e0c-9399-ac1453e2f0c2 button.colab-df-convert');\n",
              "        buttonEl.style.display =\n",
              "          google.colab.kernel.accessAllowed ? 'block' : 'none';\n",
              "\n",
              "        async function convertToInteractive(key) {\n",
              "          const element = document.querySelector('#df-3460dc97-22f9-4e0c-9399-ac1453e2f0c2');\n",
              "          const dataTable =\n",
              "            await google.colab.kernel.invokeFunction('convertToInteractive',\n",
              "                                                     [key], {});\n",
              "          if (!dataTable) return;\n",
              "\n",
              "          const docLinkHtml = 'Like what you see? Visit the ' +\n",
              "            '<a target=\"_blank\" href=https://colab.research.google.com/notebooks/data_table.ipynb>data table notebook</a>'\n",
              "            + ' to learn more about interactive tables.';\n",
              "          element.innerHTML = '';\n",
              "          dataTable['output_type'] = 'display_data';\n",
              "          await google.colab.output.renderOutput(dataTable, element);\n",
              "          const docLink = document.createElement('div');\n",
              "          docLink.innerHTML = docLinkHtml;\n",
              "          element.appendChild(docLink);\n",
              "        }\n",
              "      </script>\n",
              "    </div>\n",
              "  </div>\n",
              "  "
            ],
            "text/plain": [
              "     class cap-shape cap-surface  ... spore-print-color population habitat\n",
              "4787     p         f           f  ...                 h          y       g\n",
              "7045     p         f           y  ...                 w          v       p\n",
              "5678     p         f           s  ...                 h          s       g\n",
              "7746     e         x           s  ...                 w          n       g\n",
              "2056     e         x           f  ...                 n          v       d\n",
              "\n",
              "[5 rows x 23 columns]"
            ]
          },
          "metadata": {},
          "execution_count": 27
        }
      ]
    },
    {
      "cell_type": "code",
      "source": [
        "df['class'].value_counts()"
      ],
      "metadata": {
        "colab": {
          "base_uri": "https://localhost:8080/"
        },
        "id": "En-n7kPWovU4",
        "outputId": "1876ee69-e325-4ab7-d692-6b8f692b96a2"
      },
      "execution_count": null,
      "outputs": [
        {
          "output_type": "execute_result",
          "data": {
            "text/plain": [
              "e    4208\n",
              "p    3916\n",
              "Name: class, dtype: int64"
            ]
          },
          "metadata": {},
          "execution_count": 28
        }
      ]
    },
    {
      "cell_type": "code",
      "source": [
        "Y = pd.Series(np.where(df['class'] == 'e', 0, 1))\n",
        "X = df.drop(['class'], axis = 1)"
      ],
      "metadata": {
        "id": "t3a5gsgXoP-0"
      },
      "execution_count": null,
      "outputs": []
    },
    {
      "cell_type": "code",
      "source": [
        "X.info()"
      ],
      "metadata": {
        "colab": {
          "base_uri": "https://localhost:8080/"
        },
        "id": "ahhLdiuKp3Z4",
        "outputId": "a052e5c5-5fe5-4b1f-f003-52bad95918d5"
      },
      "execution_count": null,
      "outputs": [
        {
          "output_type": "stream",
          "name": "stdout",
          "text": [
            "<class 'pandas.core.frame.DataFrame'>\n",
            "RangeIndex: 8124 entries, 0 to 8123\n",
            "Data columns (total 22 columns):\n",
            " #   Column                    Non-Null Count  Dtype \n",
            "---  ------                    --------------  ----- \n",
            " 0   cap-shape                 8124 non-null   object\n",
            " 1   cap-surface               8124 non-null   object\n",
            " 2   cap-color                 8124 non-null   object\n",
            " 3   bruises                   8124 non-null   object\n",
            " 4   odor                      8124 non-null   object\n",
            " 5   gill-attachment           8124 non-null   object\n",
            " 6   gill-spacing              8124 non-null   object\n",
            " 7   gill-size                 8124 non-null   object\n",
            " 8   gill-color                8124 non-null   object\n",
            " 9   stalk-shape               8124 non-null   object\n",
            " 10  stalk-root                8124 non-null   object\n",
            " 11  stalk-surface-above-ring  8124 non-null   object\n",
            " 12  stalk-surface-below-ring  8124 non-null   object\n",
            " 13  stalk-color-above-ring    8124 non-null   object\n",
            " 14  stalk-color-below-ring    8124 non-null   object\n",
            " 15  veil-type                 8124 non-null   object\n",
            " 16  veil-color                8124 non-null   object\n",
            " 17  ring-number               8124 non-null   object\n",
            " 18  ring-type                 8124 non-null   object\n",
            " 19  spore-print-color         8124 non-null   object\n",
            " 20  population                8124 non-null   object\n",
            " 21  habitat                   8124 non-null   object\n",
            "dtypes: object(22)\n",
            "memory usage: 1.4+ MB\n"
          ]
        }
      ]
    },
    {
      "cell_type": "code",
      "source": [
        "from sklearn.preprocessing import OneHotEncoder\n",
        "\n",
        "ohe = OneHotEncoder()\n",
        "X=ohe.fit_transform(X)"
      ],
      "metadata": {
        "id": "vfmNnfmfshkZ"
      },
      "execution_count": null,
      "outputs": []
    },
    {
      "cell_type": "code",
      "source": [
        "from sklearn.model_selection import train_test_split\n",
        "\n",
        "xtrain, xtest, ytrain, ytest = train_test_split(X, Y)"
      ],
      "metadata": {
        "id": "t6-KLhCuo3G9"
      },
      "execution_count": null,
      "outputs": []
    },
    {
      "cell_type": "code",
      "source": [
        "from sklearn.tree import DecisionTreeClassifier\n",
        "\n",
        "model = DecisionTreeClassifier()\n",
        "model.fit(xtrain, ytrain)"
      ],
      "metadata": {
        "colab": {
          "base_uri": "https://localhost:8080/"
        },
        "id": "DxcedcuspfPI",
        "outputId": "7123ed0a-8560-441a-f96b-c50815140cc1"
      },
      "execution_count": null,
      "outputs": [
        {
          "output_type": "execute_result",
          "data": {
            "text/plain": [
              "DecisionTreeClassifier()"
            ]
          },
          "metadata": {},
          "execution_count": 44
        }
      ]
    },
    {
      "cell_type": "code",
      "source": [
        "model.score(xtest, ytest)"
      ],
      "metadata": {
        "colab": {
          "base_uri": "https://localhost:8080/"
        },
        "id": "MOq4ffteqzPw",
        "outputId": "7241ca33-5e3a-48b1-88d0-42d0b8a80576"
      },
      "execution_count": null,
      "outputs": [
        {
          "output_type": "execute_result",
          "data": {
            "text/plain": [
              "1.0"
            ]
          },
          "metadata": {},
          "execution_count": 46
        }
      ]
    },
    {
      "cell_type": "code",
      "source": [
        "from sklearn.metrics import confusion_matrix\n",
        "\n",
        "confusion_matrix(ytest, model.predict(xtest))"
      ],
      "metadata": {
        "colab": {
          "base_uri": "https://localhost:8080/"
        },
        "id": "d2APaWBWs7Ml",
        "outputId": "35ac31b8-3973-4d81-f494-3f34b2704aad"
      },
      "execution_count": null,
      "outputs": [
        {
          "output_type": "execute_result",
          "data": {
            "text/plain": [
              "array([[1055,    0],\n",
              "       [   0,  976]])"
            ]
          },
          "metadata": {},
          "execution_count": 50
        }
      ]
    },
    {
      "cell_type": "code",
      "source": [
        "from sklearn import tree\n",
        "\n",
        "plt.figure(figsize=(10, 10))\n",
        "tree.plot_tree(model, filled = True)\n",
        "plt.show()"
      ],
      "metadata": {
        "colab": {
          "base_uri": "https://localhost:8080/",
          "height": 575
        },
        "id": "xgsTYSF3td6e",
        "outputId": "9e7f82dd-f30a-4381-d0f6-12d4c48d17f9"
      },
      "execution_count": null,
      "outputs": [
        {
          "output_type": "display_data",
          "data": {
            "image/png": "[encoded data removed]",
            "text/plain": [
              "<Figure size 720x720 with 1 Axes>"
            ]
          },
          "metadata": {
            "needs_background": "light"
          }
        }
      ]
    }
  ]
}