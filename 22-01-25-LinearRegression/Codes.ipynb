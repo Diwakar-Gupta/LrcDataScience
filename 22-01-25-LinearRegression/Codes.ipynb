{
  "nbformat": 4,
  "nbformat_minor": 0,
  "metadata": {
    "colab": {
      "name": "Linear R LRC.ipynb",
      "provenance": [],
      "collapsed_sections": [],
      "toc_visible": true,
      "authorship_tag": "ABX9TyPMRVpLUUj5qXGZjsMJN0sB",
      "include_colab_link": true
    },
    "kernelspec": {
      "name": "python3",
      "display_name": "Python 3"
    },
    "language_info": {
      "name": "python"
    }
  },
  "cells": [
    {
      "cell_type": "markdown",
      "metadata": {
        "id": "view-in-github",
        "colab_type": "text"
      },
      "source": [
        "<a href=\"https://colab.research.google.com/github/Diwakar-Gupta/LrcDataScience/blob/main/22-01-25-LinearRegression/Codes.ipynb\" target=\"_parent\"><img src=\"https://colab.research.google.com/assets/colab-badge.svg\" alt=\"Open In Colab\"/></a>"
      ]
    },
    {
      "cell_type": "markdown",
      "source": [
        "[Codes](https://1drv.ms/u/s!AmSu_rSXl5m3iSQr2MckZa36MYSJ?e=2SIc2U)"
      ],
      "metadata": {
        "id": "oZv16iB7DrgV"
      }
    },
    {
      "cell_type": "code",
      "execution_count": 1,
      "metadata": {
        "id": "xuN8HEYssZaM"
      },
      "outputs": [],
      "source": [
        "import numpy as np\n",
        "import pandas as pd\n",
        "import matplotlib.pyplot as plt"
      ]
    },
    {
      "cell_type": "code",
      "source": [
        "x = np.arange(20)\n",
        "y = np.linspace(3, 17, 20) + np.random.randn(20)\n",
        "\n",
        "plt.scatter(x, y)"
      ],
      "metadata": {
        "colab": {
          "base_uri": "https://localhost:8080/",
          "height": 282
        },
        "id": "sEDiHtEgsdtv",
        "outputId": "bda3eb96-3721-4119-902c-f49350e231dc"
      },
      "execution_count": 28,
      "outputs": [
        {
          "output_type": "execute_result",
          "data": {
            "text/plain": [
              "<matplotlib.collections.PathCollection at 0x7fc1e73d1290>"
            ]
          },
          "metadata": {},
          "execution_count": 28
        },
        {
          "output_type": "display_data",
          "data": {
            "image/png": "[encoded data removed]",
            "text/plain": [
              "<Figure size 432x288 with 1 Axes>"
            ]
          },
          "metadata": {
            "needs_background": "light"
          }
        }
      ]
    },
    {
      "cell_type": "code",
      "source": [
        "X = x.reshape(-1, 1)"
      ],
      "metadata": {
        "id": "fl0MJiFus4zK"
      },
      "execution_count": 29,
      "outputs": []
    },
    {
      "cell_type": "code",
      "source": [
        "from sklearn.linear_model import LinearRegression\n",
        "\n",
        "model = LinearRegression()\n",
        "model.fit(X, y)"
      ],
      "metadata": {
        "colab": {
          "base_uri": "https://localhost:8080/"
        },
        "id": "ghT4HBepswWE",
        "outputId": "ea4405fb-7a45-4649-b579-72bb7ddf9ece"
      },
      "execution_count": 30,
      "outputs": [
        {
          "output_type": "execute_result",
          "data": {
            "text/plain": [
              "LinearRegression()"
            ]
          },
          "metadata": {},
          "execution_count": 30
        }
      ]
    },
    {
      "cell_type": "code",
      "source": [
        "model.coef_[0]"
      ],
      "metadata": {
        "colab": {
          "base_uri": "https://localhost:8080/"
        },
        "id": "GJm8PTH7s7n9",
        "outputId": "a1240a15-5ef8-4630-cc0a-c6566ace40bb"
      },
      "execution_count": 31,
      "outputs": [
        {
          "output_type": "execute_result",
          "data": {
            "text/plain": [
              "0.7277625332965151"
            ]
          },
          "metadata": {},
          "execution_count": 31
        }
      ]
    },
    {
      "cell_type": "code",
      "source": [
        "model.intercept_"
      ],
      "metadata": {
        "colab": {
          "base_uri": "https://localhost:8080/"
        },
        "id": "ubit7M6jtBz4",
        "outputId": "798f4b77-2cbb-4b18-ed75-69f24ec14332"
      },
      "execution_count": 32,
      "outputs": [
        {
          "output_type": "execute_result",
          "data": {
            "text/plain": [
              "3.1561915071406785"
            ]
          },
          "metadata": {},
          "execution_count": 32
        }
      ]
    },
    {
      "cell_type": "code",
      "source": [
        "a = np.array([0, 20])\n",
        "b = model.coef_[0] * a + model.intercept_\n",
        "\n",
        "plt.plot(a, b, 'r')\n",
        "plt.scatter(x, y)"
      ],
      "metadata": {
        "colab": {
          "base_uri": "https://localhost:8080/",
          "height": 282
        },
        "id": "jh20xIM4tExB",
        "outputId": "7f6c04e9-1093-40dd-a2a6-a0511850eeb8"
      },
      "execution_count": 33,
      "outputs": [
        {
          "output_type": "execute_result",
          "data": {
            "text/plain": [
              "<matplotlib.collections.PathCollection at 0x7fc1e7377590>"
            ]
          },
          "metadata": {},
          "execution_count": 33
        },
        {
          "output_type": "display_data",
          "data": {
            "image/png": "[encoded data removed]",
            "text/plain": [
              "<Figure size 432x288 with 1 Axes>"
            ]
          },
          "metadata": {
            "needs_background": "light"
          }
        }
      ]
    },
    {
      "cell_type": "code",
      "source": [
        "y[-1] = 100\n",
        "\n",
        "model.fit(X, y)\n",
        "\n",
        "a2 = np.array([0, 20])\n",
        "b2 = model.coef_[0] * a + model.intercept_\n",
        "\n",
        "plt.plot(a, b, 'r', label = 'No Outlier')\n",
        "plt.plot(a2, b2, 'g', label = 'With Outlier')\n",
        "plt.scatter(x, y)\n",
        "plt.legend()"
      ],
      "metadata": {
        "colab": {
          "base_uri": "https://localhost:8080/",
          "height": 282
        },
        "id": "rN_hOy77ukEL",
        "outputId": "30fee055-043e-4cd7-96f4-2c2d923f0617"
      },
      "execution_count": 35,
      "outputs": [
        {
          "output_type": "execute_result",
          "data": {
            "text/plain": [
              "<matplotlib.legend.Legend at 0x7fc1e725a890>"
            ]
          },
          "metadata": {},
          "execution_count": 35
        },
        {
          "output_type": "display_data",
          "data": {
            "image/png": "[encoded data removed]",
            "text/plain": [
              "<Figure size 432x288 with 1 Axes>"
            ]
          },
          "metadata": {
            "needs_background": "light"
          }
        }
      ]
    },
    {
      "cell_type": "code",
      "source": [
        "n = 100\n",
        "\n",
        "x = np.linspace(-15, 15, n)\n",
        "y = 3*x*x + 2*x + np.random.randn(n)*50\n",
        "plt.scatter(x, y)"
      ],
      "metadata": {
        "colab": {
          "base_uri": "https://localhost:8080/",
          "height": 282
        },
        "id": "PaiNhXjZwT__",
        "outputId": "9c954b9a-f171-4f78-a161-778a86d54cae"
      },
      "execution_count": 52,
      "outputs": [
        {
          "output_type": "execute_result",
          "data": {
            "text/plain": [
              "<matplotlib.collections.PathCollection at 0x7fc1e4e50290>"
            ]
          },
          "metadata": {},
          "execution_count": 52
        },
        {
          "output_type": "display_data",
          "data": {
            "image/png": "[encoded data removed]",
            "text/plain": [
              "<Figure size 432x288 with 1 Axes>"
            ]
          },
          "metadata": {
            "needs_background": "light"
          }
        }
      ]
    },
    {
      "cell_type": "code",
      "source": [
        "X = x.reshape(-1, 1)\n",
        "\n",
        "model.fit(X, y)"
      ],
      "metadata": {
        "colab": {
          "base_uri": "https://localhost:8080/"
        },
        "id": "jZ21cYPNwV16",
        "outputId": "b2eaf847-f855-4bea-9a53-e101fffbbcfa"
      },
      "execution_count": 53,
      "outputs": [
        {
          "output_type": "execute_result",
          "data": {
            "text/plain": [
              "LinearRegression()"
            ]
          },
          "metadata": {},
          "execution_count": 53
        }
      ]
    },
    {
      "cell_type": "code",
      "source": [
        "a = np.array([-10, 15])\n",
        "b = model.coef_[0] * a + model.intercept_\n",
        "\n",
        "plt.plot(a, b, 'r')\n",
        "plt.scatter(x, y)"
      ],
      "metadata": {
        "colab": {
          "base_uri": "https://localhost:8080/",
          "height": 282
        },
        "id": "bhJXjvh80JhA",
        "outputId": "58d249c6-7da6-4346-9a77-3dc9461e32f9"
      },
      "execution_count": 54,
      "outputs": [
        {
          "output_type": "execute_result",
          "data": {
            "text/plain": [
              "<matplotlib.collections.PathCollection at 0x7fc1e4dfb410>"
            ]
          },
          "metadata": {},
          "execution_count": 54
        },
        {
          "output_type": "display_data",
          "data": {
            "image/png": "[encoded data removed]",
            "text/plain": [
              "<Figure size 432x288 with 1 Axes>"
            ]
          },
          "metadata": {
            "needs_background": "light"
          }
        }
      ]
    },
    {
      "cell_type": "code",
      "source": [
        "x1 = x\n",
        "x2 = x*x\n",
        "\n",
        "X = np.dstack([x1, x2])[0]"
      ],
      "metadata": {
        "id": "OwoOhIt30i7_"
      },
      "execution_count": 55,
      "outputs": []
    },
    {
      "cell_type": "code",
      "source": [
        "model.fit(X, y)"
      ],
      "metadata": {
        "colab": {
          "base_uri": "https://localhost:8080/"
        },
        "id": "e1agID9p2WNr",
        "outputId": "bae8e16c-0be2-4bd2-e5a9-97f402425379"
      },
      "execution_count": 56,
      "outputs": [
        {
          "output_type": "execute_result",
          "data": {
            "text/plain": [
              "LinearRegression()"
            ]
          },
          "metadata": {},
          "execution_count": 56
        }
      ]
    },
    {
      "cell_type": "code",
      "source": [
        "model.coef_"
      ],
      "metadata": {
        "colab": {
          "base_uri": "https://localhost:8080/"
        },
        "id": "NJ81g-2c2XhQ",
        "outputId": "7a19d128-ede2-4784-c15b-a05f71de4688"
      },
      "execution_count": 57,
      "outputs": [
        {
          "output_type": "execute_result",
          "data": {
            "text/plain": [
              "array([2.35315235, 2.97933958])"
            ]
          },
          "metadata": {},
          "execution_count": 57
        }
      ]
    },
    {
      "cell_type": "code",
      "source": [
        "model.intercept_"
      ],
      "metadata": {
        "colab": {
          "base_uri": "https://localhost:8080/"
        },
        "id": "R1lXGYBG2dmN",
        "outputId": "3442deef-3744-48e3-d66b-34123ab197e6"
      },
      "execution_count": 58,
      "outputs": [
        {
          "output_type": "execute_result",
          "data": {
            "text/plain": [
              "-6.274069170440015"
            ]
          },
          "metadata": {},
          "execution_count": 58
        }
      ]
    },
    {
      "cell_type": "code",
      "source": [
        "plt.scatter(x, model.predict(X), label = 'predict', s = 5)\n",
        "plt.scatter(x, y, label = 'actual')\n",
        "\n",
        "plt.legend()"
      ],
      "metadata": {
        "colab": {
          "base_uri": "https://localhost:8080/",
          "height": 282
        },
        "id": "DgG-k0B22nR4",
        "outputId": "341b54e6-00ab-45ff-b821-a5077b4d1db0"
      },
      "execution_count": 62,
      "outputs": [
        {
          "output_type": "execute_result",
          "data": {
            "text/plain": [
              "<matplotlib.legend.Legend at 0x7fc1e4be86d0>"
            ]
          },
          "metadata": {},
          "execution_count": 62
        },
        {
          "output_type": "display_data",
          "data": {
            "image/png": "[encoded data removed]",
            "text/plain": [
              "<Figure size 432x288 with 1 Axes>"
            ]
          },
          "metadata": {
            "needs_background": "light"
          }
        }
      ]
    },
    {
      "cell_type": "code",
      "source": [
        "y = 4*x**3 + 2*x + np.random.randn(n)*400\n",
        "\n",
        "plt.scatter(x, y)"
      ],
      "metadata": {
        "colab": {
          "base_uri": "https://localhost:8080/",
          "height": 282
        },
        "id": "U48Qjp8S3MU5",
        "outputId": "8ee71b17-2176-47fc-c6d8-bb3f221a12bd"
      },
      "execution_count": 63,
      "outputs": [
        {
          "output_type": "execute_result",
          "data": {
            "text/plain": [
              "<matplotlib.collections.PathCollection at 0x7fc1e4bc8590>"
            ]
          },
          "metadata": {},
          "execution_count": 63
        },
        {
          "output_type": "display_data",
          "data": {
            "image/png": "[encoded data removed]",
            "text/plain": [
              "<Figure size 432x288 with 1 Axes>"
            ]
          },
          "metadata": {
            "needs_background": "light"
          }
        }
      ]
    },
    {
      "cell_type": "code",
      "source": [
        "X = x.reshape(-1, 1)\n",
        "X"
      ],
      "metadata": {
        "id": "zGNXEaff5JeC"
      },
      "execution_count": null,
      "outputs": []
    },
    {
      "cell_type": "code",
      "source": [
        "from sklearn.preprocessing import PolynomialFeatures\n",
        "\n",
        "p = PolynomialFeatures(degree = 7)\n",
        "X = p.fit_transform(X)"
      ],
      "metadata": {
        "id": "Pc7_098L40Wq"
      },
      "execution_count": 72,
      "outputs": []
    },
    {
      "cell_type": "code",
      "source": [
        "model.fit(X, y)"
      ],
      "metadata": {
        "colab": {
          "base_uri": "https://localhost:8080/"
        },
        "id": "sHk56EIL5Plg",
        "outputId": "925ac89a-1518-457b-af41-7cd30d0f0cf7"
      },
      "execution_count": 73,
      "outputs": [
        {
          "output_type": "execute_result",
          "data": {
            "text/plain": [
              "LinearRegression()"
            ]
          },
          "metadata": {},
          "execution_count": 73
        }
      ]
    },
    {
      "cell_type": "code",
      "source": [
        "plt.scatter(x, model.predict(X), label = 'predict')\n",
        "plt.scatter(x, y, label = 'actual')\n",
        "\n",
        "plt.legend()"
      ],
      "metadata": {
        "colab": {
          "base_uri": "https://localhost:8080/",
          "height": 282
        },
        "id": "NuVQ_o1X5wdP",
        "outputId": "20ff1afd-79fc-45ee-d4c7-d87262bb0db3"
      },
      "execution_count": 74,
      "outputs": [
        {
          "output_type": "execute_result",
          "data": {
            "text/plain": [
              "<matplotlib.legend.Legend at 0x7fc1dc1ad510>"
            ]
          },
          "metadata": {},
          "execution_count": 74
        },
        {
          "output_type": "display_data",
          "data": {
            "image/png": "[encoded data removed]",
            "text/plain": [
              "<Figure size 432x288 with 1 Axes>"
            ]
          },
          "metadata": {
            "needs_background": "light"
          }
        }
      ]
    },
    {
      "cell_type": "markdown",
      "source": [
        "# Overfit"
      ],
      "metadata": {
        "id": "yeeEeBPl62XA"
      }
    },
    {
      "cell_type": "code",
      "source": [
        "n = 100\n",
        "\n",
        "x = 6 * np.random.rand(n, 1) - 3\n",
        "y = 0.5 * x**2 + x + 2 + np.random.randn(n, 1)\n",
        "\n",
        "plt.scatter(x, y)"
      ],
      "metadata": {
        "colab": {
          "base_uri": "https://localhost:8080/",
          "height": 282
        },
        "id": "4ZVbHvYU567C",
        "outputId": "bad57332-f33e-4497-9987-e4131d4553eb"
      },
      "execution_count": 76,
      "outputs": [
        {
          "output_type": "execute_result",
          "data": {
            "text/plain": [
              "<matplotlib.collections.PathCollection at 0x7fc1dc128f10>"
            ]
          },
          "metadata": {},
          "execution_count": 76
        },
        {
          "output_type": "display_data",
          "data": {
            "image/png": "[encoded data removed]",
            "text/plain": [
              "<Figure size 432x288 with 1 Axes>"
            ]
          },
          "metadata": {
            "needs_background": "light"
          }
        }
      ]
    },
    {
      "cell_type": "code",
      "source": [
        "from sklearn.preprocessing import StandardScaler\n",
        "\n",
        "poly_features = PolynomialFeatures(degree=25, include_bias=False)\n",
        "X = poly_features.fit_transform(x)\n",
        "X = StandardScaler().fit_transform(X)\n",
        "\n",
        "model.fit(X, y)\n",
        "\n",
        "# srt = x.copy()\n",
        "# srt.sort()\n",
        "# srtX = poly_features.fit_transform(srt)\n",
        "# srtX = np.hstack([srtX, np.exp(srt)])\n",
        "\n",
        "plt.scatter(x, y)\n",
        "plt.scatter(x, model.predict(X), color = 'r')"
      ],
      "metadata": {
        "colab": {
          "base_uri": "https://localhost:8080/",
          "height": 282
        },
        "id": "XIe7wUKL6-UV",
        "outputId": "d9bc0b4a-0112-4d06-83f5-fb788b1e8849"
      },
      "execution_count": 88,
      "outputs": [
        {
          "output_type": "execute_result",
          "data": {
            "text/plain": [
              "<matplotlib.collections.PathCollection at 0x7fc1dbce7e10>"
            ]
          },
          "metadata": {},
          "execution_count": 88
        },
        {
          "output_type": "display_data",
          "data": {
            "image/png": "[encoded data removed]",
            "text/plain": [
              "<Figure size 432x288 with 1 Axes>"
            ]
          },
          "metadata": {
            "needs_background": "light"
          }
        }
      ]
    },
    {
      "cell_type": "code",
      "source": [
        "X[0]"
      ],
      "metadata": {
        "colab": {
          "base_uri": "https://localhost:8080/"
        },
        "id": "tBEJivbc--Zg",
        "outputId": "5fe6da61-d5d6-40a2-9857-693aa2b801ac"
      },
      "execution_count": 98,
      "outputs": [
        {
          "output_type": "execute_result",
          "data": {
            "text/plain": [
              "array([-0.40261805, -1.11462928, -0.11226719, -0.83183285, -0.10120962,\n",
              "       -0.67970899, -0.10197338, -0.59052371, -0.10180743, -0.53146311,\n",
              "       -0.10125788, -0.48914602, -0.1006228 , -0.45713112, -0.09994449,\n",
              "       -0.43190072, -0.09920996, -0.41137618, -0.09840777, -0.39425725,\n",
              "       -0.0975363 , -0.37969083, -0.09660091, -0.36709287, -0.09561015])"
            ]
          },
          "metadata": {},
          "execution_count": 98
        }
      ]
    },
    {
      "cell_type": "code",
      "source": [
        "from sklearn.linear_model import Ridge, Lasso\n",
        "\n",
        "rid = Ridge()\n",
        "lasso = Lasso()\n",
        "\n",
        "rid.fit(X, y)\n",
        "lasso.fit(X, y)"
      ],
      "metadata": {
        "colab": {
          "base_uri": "https://localhost:8080/"
        },
        "id": "hdWXw0iK7nUO",
        "outputId": "d2254479-c3b6-4534-d183-1b2ce4a5e701"
      },
      "execution_count": 89,
      "outputs": [
        {
          "output_type": "execute_result",
          "data": {
            "text/plain": [
              "Lasso()"
            ]
          },
          "metadata": {},
          "execution_count": 89
        }
      ]
    },
    {
      "cell_type": "code",
      "source": [
        "plt.scatter(x, y)\n",
        "plt.scatter(x, rid.predict(X), color = 'r')"
      ],
      "metadata": {
        "colab": {
          "base_uri": "https://localhost:8080/",
          "height": 282
        },
        "id": "f4MLOo1V9qCL",
        "outputId": "e4f9aae5-2d53-44f0-fdd0-3940713ab28c"
      },
      "execution_count": 90,
      "outputs": [
        {
          "output_type": "execute_result",
          "data": {
            "text/plain": [
              "<matplotlib.collections.PathCollection at 0x7fc1dbc5c690>"
            ]
          },
          "metadata": {},
          "execution_count": 90
        },
        {
          "output_type": "display_data",
          "data": {
            "image/png": "[encoded data removed]",
            "text/plain": [
              "<Figure size 432x288 with 1 Axes>"
            ]
          },
          "metadata": {
            "needs_background": "light"
          }
        }
      ]
    },
    {
      "cell_type": "code",
      "source": [
        "plt.scatter(x, y)\n",
        "plt.scatter(x, lasso.predict(X), color = 'r')"
      ],
      "metadata": {
        "colab": {
          "base_uri": "https://localhost:8080/",
          "height": 282
        },
        "id": "jKMsE5-A96KK",
        "outputId": "2cfe4b51-ab24-4bb5-95b3-a51ead7736b5"
      },
      "execution_count": 91,
      "outputs": [
        {
          "output_type": "execute_result",
          "data": {
            "text/plain": [
              "<matplotlib.collections.PathCollection at 0x7fc1dbc4d410>"
            ]
          },
          "metadata": {},
          "execution_count": 91
        },
        {
          "output_type": "display_data",
          "data": {
            "image/png": "[encoded data removed]",
            "text/plain": [
              "<Figure size 432x288 with 1 Axes>"
            ]
          },
          "metadata": {
            "needs_background": "light"
          }
        }
      ]
    },
    {
      "cell_type": "code",
      "source": [
        "model.coef_"
      ],
      "metadata": {
        "colab": {
          "base_uri": "https://localhost:8080/"
        },
        "id": "0uaGJick-GP4",
        "outputId": "0439bad3-798a-42b5-ce9e-608a5b2c96d0"
      },
      "execution_count": 94,
      "outputs": [
        {
          "output_type": "execute_result",
          "data": {
            "text/plain": [
              "array([[ 2.21945613e+00,  9.33122974e+00, -1.56773562e+02,\n",
              "        -3.10289746e+02,  3.43098682e+03,  5.82479007e+03,\n",
              "        -3.32447417e+04, -5.94165359e+04,  1.84379779e+05,\n",
              "         3.55825440e+05, -6.48280964e+05, -1.33298170e+06,\n",
              "         1.52066885e+06,  3.24852158e+06, -2.43450543e+06,\n",
              "        -5.23296336e+06,  2.66087105e+06,  5.52916677e+06,\n",
              "        -1.93882418e+06, -3.68515815e+06,  8.88353927e+05,\n",
              "         1.40509689e+06, -2.25655722e+05, -2.33613340e+05,\n",
              "         2.29627625e+04]])"
            ]
          },
          "metadata": {},
          "execution_count": 94
        }
      ]
    },
    {
      "cell_type": "code",
      "source": [
        "rid.coef_"
      ],
      "metadata": {
        "colab": {
          "base_uri": "https://localhost:8080/"
        },
        "id": "WmYk6a8C-GZA",
        "outputId": "0b886be1-29a4-4db8-ca81-8c0766c380cb"
      },
      "execution_count": 92,
      "outputs": [
        {
          "output_type": "execute_result",
          "data": {
            "text/plain": [
              "array([[ 1.73127620e+00,  8.77239036e-01,  5.63364114e-01,\n",
              "         5.53195421e-01, -7.22010499e-02,  3.64938791e-01,\n",
              "        -8.61344115e-02,  1.45588543e-01, -1.48234679e-03,\n",
              "        -4.03406555e-02,  4.15511464e-02, -1.63798640e-01,\n",
              "         3.64779569e-02, -2.20706698e-01,  4.60368534e-03,\n",
              "        -2.16663657e-01, -3.44144153e-02, -1.60263742e-01,\n",
              "        -6.79809692e-02, -6.04207277e-02, -8.96406588e-02,\n",
              "         7.46685705e-02, -9.70843529e-02,  2.37857025e-01,\n",
              "        -9.04599190e-02]])"
            ]
          },
          "metadata": {},
          "execution_count": 92
        }
      ]
    },
    {
      "cell_type": "code",
      "source": [
        "lasso.coef_"
      ],
      "metadata": {
        "colab": {
          "base_uri": "https://localhost:8080/"
        },
        "id": "QcasSidQ-HnC",
        "outputId": "c7cdb6bd-4a55-4de1-9154-a20e394f2530"
      },
      "execution_count": 93,
      "outputs": [
        {
          "output_type": "execute_result",
          "data": {
            "text/plain": [
              "array([1.09758299, 0.52719867, 0.        , 0.        , 0.        ,\n",
              "       0.        , 0.        , 0.        , 0.        , 0.        ,\n",
              "       0.        , 0.        , 0.        , 0.        , 0.        ,\n",
              "       0.        , 0.        , 0.        , 0.        , 0.        ,\n",
              "       0.        , 0.        , 0.        , 0.        , 0.        ])"
            ]
          },
          "metadata": {},
          "execution_count": 93
        }
      ]
    }
  ]
}